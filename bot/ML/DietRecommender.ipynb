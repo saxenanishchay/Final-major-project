{
 "cells": [
  {
   "cell_type": "markdown",
   "metadata": {},
   "source": [
    "## Diet Recommendations based on specific Prakriti\n",
    "\n",
    "Reading the dataset of `diet.csv` and importing the required modules"
   ]
  },
  {
   "cell_type": "code",
   "execution_count": 74,
   "metadata": {},
   "outputs": [],
   "source": [
    "import pandas as pd"
   ]
  },
  {
   "cell_type": "code",
   "execution_count": 75,
   "metadata": {},
   "outputs": [
    {
     "data": {
      "text/html": [
       "<div>\n",
       "<style scoped>\n",
       "    .dataframe tbody tr th:only-of-type {\n",
       "        vertical-align: middle;\n",
       "    }\n",
       "\n",
       "    .dataframe tbody tr th {\n",
       "        vertical-align: top;\n",
       "    }\n",
       "\n",
       "    .dataframe thead th {\n",
       "        text-align: right;\n",
       "    }\n",
       "</style>\n",
       "<table border=\"1\" class=\"dataframe\">\n",
       "  <thead>\n",
       "    <tr style=\"text-align: right;\">\n",
       "      <th></th>\n",
       "      <th>Doshas</th>\n",
       "      <th>Diets to Consume</th>\n",
       "      <th>Diets to Avoid</th>\n",
       "    </tr>\n",
       "  </thead>\n",
       "  <tbody>\n",
       "    <tr>\n",
       "      <th>0</th>\n",
       "      <td>Vata</td>\n",
       "      <td>Include foods or ingredients that are sweet, s...</td>\n",
       "      <td>Avoid bitter, astringent, or pungent (spicy fo...</td>\n",
       "    </tr>\n",
       "    <tr>\n",
       "      <th>1</th>\n",
       "      <td>Pitta</td>\n",
       "      <td>Include foods/ingredients that are sweet, bitt...</td>\n",
       "      <td>Avoid chilies or foods that are too spicy such...</td>\n",
       "    </tr>\n",
       "    <tr>\n",
       "      <th>2</th>\n",
       "      <td>Kapha</td>\n",
       "      <td>Include foods/ingredients that are bitter, pun...</td>\n",
       "      <td>Avoid sweets, baked items, and cold foods. The...</td>\n",
       "    </tr>\n",
       "    <tr>\n",
       "      <th>3</th>\n",
       "      <td>Vata - Pitta</td>\n",
       "      <td>In general, you will want to follow a stricter...</td>\n",
       "      <td>Avoid all raw and cold foods (may be acceptabl...</td>\n",
       "    </tr>\n",
       "    <tr>\n",
       "      <th>4</th>\n",
       "      <td>Pitta - Kapha</td>\n",
       "      <td>Overall the food choices should be light, but ...</td>\n",
       "      <td>Avoid heating, inflammatory foods such as nigh...</td>\n",
       "    </tr>\n",
       "    <tr>\n",
       "      <th>5</th>\n",
       "      <td>Vata - Kapha</td>\n",
       "      <td>the food choices should be light, but nourishi...</td>\n",
       "      <td>Avoid all raw and cold foods.\\r\\nAvoid snackin...</td>\n",
       "    </tr>\n",
       "  </tbody>\n",
       "</table>\n",
       "</div>"
      ],
      "text/plain": [
       "          Doshas                                   Diets to Consume  \\\n",
       "0           Vata  Include foods or ingredients that are sweet, s...   \n",
       "1          Pitta  Include foods/ingredients that are sweet, bitt...   \n",
       "2          Kapha  Include foods/ingredients that are bitter, pun...   \n",
       "3   Vata - Pitta  In general, you will want to follow a stricter...   \n",
       "4  Pitta - Kapha  Overall the food choices should be light, but ...   \n",
       "5   Vata - Kapha  the food choices should be light, but nourishi...   \n",
       "\n",
       "                                      Diets to Avoid  \n",
       "0  Avoid bitter, astringent, or pungent (spicy fo...  \n",
       "1  Avoid chilies or foods that are too spicy such...  \n",
       "2  Avoid sweets, baked items, and cold foods. The...  \n",
       "3  Avoid all raw and cold foods (may be acceptabl...  \n",
       "4  Avoid heating, inflammatory foods such as nigh...  \n",
       "5  Avoid all raw and cold foods.\\r\\nAvoid snackin...  "
      ]
     },
     "execution_count": 75,
     "metadata": {},
     "output_type": "execute_result"
    }
   ],
   "source": [
    "df=pd.read_csv(\"../Dataset/diet.csv\")\n",
    "df"
   ]
  },
  {
   "cell_type": "markdown",
   "metadata": {},
   "source": [
    "#### Predicting the diets based on prakriti"
   ]
  },
  {
   "cell_type": "code",
   "execution_count": 76,
   "metadata": {},
   "outputs": [
    {
     "data": {
      "text/plain": [
       "['Include foods or ingredients that are sweet, salt, and sour in your diet. Rice, Wheat, Urad dal, Milk, Ghee, Oil, Curd, Chicken, Mutton, Dry Fruits, etc. Always make sure that you have got enough fat content in your diet. Prefer eating warm and freshly prepared foods. Include ingredients like asafoetida, cumin seeds (jeera), ginger, black salt, jaggery, and carom seeds (omam), in your regular diet.',\n",
       " 'Avoid bitter, astringent, or pungent (spicy foods/ingredients) taste in your diet. For example – millets, certain varieties of fish, dry fish, etc. You can include them once in a while in your diet. But not advisable for regular meals. Foods directly from the refrigerator are not good for Vata dosha.']"
      ]
     },
     "execution_count": 76,
     "metadata": {},
     "output_type": "execute_result"
    }
   ],
   "source": [
    "df.loc[df[\"Doshas\"]==\"Vata\"].drop(\"Doshas\",axis=1).to_numpy().tolist()[0]"
   ]
  },
  {
   "cell_type": "markdown",
   "metadata": {},
   "source": [
    "Creating the Function to it"
   ]
  },
  {
   "cell_type": "code",
   "execution_count": 77,
   "metadata": {},
   "outputs": [],
   "source": [
    "def recommend_Diet(prakriti:str)-> list[str]:\n",
    "    try:\n",
    "        recommends=df.loc[df[\"Doshas\"]==prakriti].drop(\"Doshas\",axis=1).to_numpy().tolist()[0]\n",
    "        return recommends\n",
    "    except IndexError as ie:\n",
    "        print(ie)"
   ]
  },
  {
   "cell_type": "code",
   "execution_count": 79,
   "metadata": {},
   "outputs": [
    {
     "data": {
      "text/plain": [
       "['Overall the food choices should be light, but nourishing with high amounts of lean, easy-to-digest protein (fish, chicken, egg whites, mung beans) and fiber (buckwheat, quinoa, veggies).\\r\\nFavor foods and beverages with bitter and astringent tastes; these are cooling for Pitta, lightening for Kapha, and drying for both doshas.\\r\\nFavor low-sugar fruits that are not sour or acidic such as apples, blueberries, peaches, pears, pomegranate, apricots, and cherries; avoid fruit juice.\\r\\nFavor bitter or astringent veggies that are not high in sugar, starch, or water content such as asparagus, bitter greens, celery, broccoli, and cauliflower.\\r\\nFavor lighter whole grains such as amaranth, quinoa, buckwheat, millet, and barley.\\r\\nFavor lighter, cooling oils such as ghee, sunflower oil, and flax oil; use in moderation only!\\r\\nInclude lots of warming (not too hot or cold) digestive spices in your meals such as fresh ginger, turmeric, fennel, coriander, cilantro, cardamom, and cumin.\\r\\nLimit salt intake which is provoking for both Pitta and Kapha; small amounts of pink Himalayan salt or mineral salt will be best.\\r\\nLimit all sweeteners; honey in cooler months and maple syrup in warmer months can be used in small amounts.\\r\\nDairy should be limited to ghee, homemade kefir, homemade yogurt, and goat dairy.\\r\\nDrink ginger tea made with fresh ginger, CCF Tea, or warm lime water between meals to aid in digestion.\\r\\nTake Triphala Churna, Bhumyamalaki, or Amalaki before bed each night to aid in digestion, elimination, and detoxification.',\n",
       " 'Avoid heating, inflammatory foods such as nightshades, red meat, pork, deli meat, refined carbohydrates, table sugar, high-fructose corn syrup, trans fats, vegetable oil, and alcohol.    \\r\\nAvoid grazing and snacking.\\r\\nAvoid eating after 7pm (6pm in winter).\\r\\nAvoid iced and cold beverages.\\r\\nAvoid drinking fluids before, during, or directly after meals.\\r\\nAvoid heavy grains such as wheat, gluten, and oats.\\r\\nAvoid fatty foods, fried foods, unhealthy oils, and excessive oil.\\r\\nAvoid processed food, additives, and dyes.\\r\\nAvoid improper food combinations.']"
      ]
     },
     "execution_count": 79,
     "metadata": {},
     "output_type": "execute_result"
    }
   ],
   "source": [
    "recommend_Diet(prakriti=\"Pitta - Kapha\")"
   ]
  }
 ],
 "metadata": {
  "kernelspec": {
   "display_name": "project",
   "language": "python",
   "name": "python3"
  },
  "language_info": {
   "codemirror_mode": {
    "name": "ipython",
    "version": 3
   },
   "file_extension": ".py",
   "mimetype": "text/x-python",
   "name": "python",
   "nbconvert_exporter": "python",
   "pygments_lexer": "ipython3",
   "version": "3.10.9"
  }
 },
 "nbformat": 4,
 "nbformat_minor": 2
}
