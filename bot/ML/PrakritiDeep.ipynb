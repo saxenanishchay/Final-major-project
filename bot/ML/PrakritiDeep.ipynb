{
 "cells": [
  {
   "cell_type": "code",
   "execution_count": 126,
   "metadata": {},
   "outputs": [],
   "source": [
    "import tensorflow as tf\n",
    "from tensorflow import keras\n",
    "from tensorflow import optimizers\n",
    "import pandas as pd\n",
    "import numpy as np\n",
    "from sklearn.model_selection import train_test_split"
   ]
  },
  {
   "cell_type": "code",
   "execution_count": 127,
   "metadata": {},
   "outputs": [
    {
     "data": {
      "text/html": [
       "<div>\n",
       "<style scoped>\n",
       "    .dataframe tbody tr th:only-of-type {\n",
       "        vertical-align: middle;\n",
       "    }\n",
       "\n",
       "    .dataframe tbody tr th {\n",
       "        vertical-align: top;\n",
       "    }\n",
       "\n",
       "    .dataframe thead th {\n",
       "        text-align: right;\n",
       "    }\n",
       "</style>\n",
       "<table border=\"1\" class=\"dataframe\">\n",
       "  <thead>\n",
       "    <tr style=\"text-align: right;\">\n",
       "      <th></th>\n",
       "      <th>Body Size</th>\n",
       "      <th>Body Weight</th>\n",
       "      <th>Height</th>\n",
       "      <th>Bone Structure</th>\n",
       "      <th>Complexion</th>\n",
       "      <th>General feel of skin</th>\n",
       "      <th>Texture of Skin</th>\n",
       "      <th>Hair Color</th>\n",
       "      <th>Appearance of Hair</th>\n",
       "      <th>Shape of face</th>\n",
       "      <th>...</th>\n",
       "      <th>Eyelashes</th>\n",
       "      <th>Blinking of Eyes</th>\n",
       "      <th>Cheeks</th>\n",
       "      <th>Nose</th>\n",
       "      <th>Teeth and gums</th>\n",
       "      <th>Lips</th>\n",
       "      <th>Nails</th>\n",
       "      <th>Appetite</th>\n",
       "      <th>Liking tastes</th>\n",
       "      <th>Dosha</th>\n",
       "    </tr>\n",
       "  </thead>\n",
       "  <tbody>\n",
       "    <tr>\n",
       "      <th>0</th>\n",
       "      <td>1</td>\n",
       "      <td>1</td>\n",
       "      <td>1</td>\n",
       "      <td>2</td>\n",
       "      <td>2</td>\n",
       "      <td>0</td>\n",
       "      <td>0</td>\n",
       "      <td>0</td>\n",
       "      <td>1</td>\n",
       "      <td>0</td>\n",
       "      <td>...</td>\n",
       "      <td>1</td>\n",
       "      <td>1</td>\n",
       "      <td>0</td>\n",
       "      <td>2</td>\n",
       "      <td>2</td>\n",
       "      <td>0</td>\n",
       "      <td>2</td>\n",
       "      <td>2</td>\n",
       "      <td>0</td>\n",
       "      <td>3</td>\n",
       "    </tr>\n",
       "    <tr>\n",
       "      <th>1</th>\n",
       "      <td>1</td>\n",
       "      <td>1</td>\n",
       "      <td>0</td>\n",
       "      <td>1</td>\n",
       "      <td>1</td>\n",
       "      <td>0</td>\n",
       "      <td>2</td>\n",
       "      <td>1</td>\n",
       "      <td>0</td>\n",
       "      <td>0</td>\n",
       "      <td>...</td>\n",
       "      <td>1</td>\n",
       "      <td>1</td>\n",
       "      <td>1</td>\n",
       "      <td>2</td>\n",
       "      <td>1</td>\n",
       "      <td>0</td>\n",
       "      <td>0</td>\n",
       "      <td>2</td>\n",
       "      <td>0</td>\n",
       "      <td>3</td>\n",
       "    </tr>\n",
       "    <tr>\n",
       "      <th>2</th>\n",
       "      <td>0</td>\n",
       "      <td>1</td>\n",
       "      <td>1</td>\n",
       "      <td>1</td>\n",
       "      <td>1</td>\n",
       "      <td>1</td>\n",
       "      <td>2</td>\n",
       "      <td>0</td>\n",
       "      <td>0</td>\n",
       "      <td>0</td>\n",
       "      <td>...</td>\n",
       "      <td>1</td>\n",
       "      <td>1</td>\n",
       "      <td>1</td>\n",
       "      <td>2</td>\n",
       "      <td>1</td>\n",
       "      <td>1</td>\n",
       "      <td>1</td>\n",
       "      <td>2</td>\n",
       "      <td>0</td>\n",
       "      <td>1</td>\n",
       "    </tr>\n",
       "    <tr>\n",
       "      <th>3</th>\n",
       "      <td>0</td>\n",
       "      <td>1</td>\n",
       "      <td>0</td>\n",
       "      <td>0</td>\n",
       "      <td>1</td>\n",
       "      <td>0</td>\n",
       "      <td>2</td>\n",
       "      <td>0</td>\n",
       "      <td>1</td>\n",
       "      <td>2</td>\n",
       "      <td>...</td>\n",
       "      <td>0</td>\n",
       "      <td>1</td>\n",
       "      <td>1</td>\n",
       "      <td>0</td>\n",
       "      <td>1</td>\n",
       "      <td>1</td>\n",
       "      <td>0</td>\n",
       "      <td>2</td>\n",
       "      <td>0</td>\n",
       "      <td>3</td>\n",
       "    </tr>\n",
       "    <tr>\n",
       "      <th>4</th>\n",
       "      <td>2</td>\n",
       "      <td>1</td>\n",
       "      <td>0</td>\n",
       "      <td>1</td>\n",
       "      <td>0</td>\n",
       "      <td>1</td>\n",
       "      <td>2</td>\n",
       "      <td>0</td>\n",
       "      <td>0</td>\n",
       "      <td>0</td>\n",
       "      <td>...</td>\n",
       "      <td>0</td>\n",
       "      <td>1</td>\n",
       "      <td>0</td>\n",
       "      <td>1</td>\n",
       "      <td>1</td>\n",
       "      <td>1</td>\n",
       "      <td>1</td>\n",
       "      <td>1</td>\n",
       "      <td>1</td>\n",
       "      <td>3</td>\n",
       "    </tr>\n",
       "    <tr>\n",
       "      <th>...</th>\n",
       "      <td>...</td>\n",
       "      <td>...</td>\n",
       "      <td>...</td>\n",
       "      <td>...</td>\n",
       "      <td>...</td>\n",
       "      <td>...</td>\n",
       "      <td>...</td>\n",
       "      <td>...</td>\n",
       "      <td>...</td>\n",
       "      <td>...</td>\n",
       "      <td>...</td>\n",
       "      <td>...</td>\n",
       "      <td>...</td>\n",
       "      <td>...</td>\n",
       "      <td>...</td>\n",
       "      <td>...</td>\n",
       "      <td>...</td>\n",
       "      <td>...</td>\n",
       "      <td>...</td>\n",
       "      <td>...</td>\n",
       "      <td>...</td>\n",
       "    </tr>\n",
       "    <tr>\n",
       "      <th>1195</th>\n",
       "      <td>1</td>\n",
       "      <td>1</td>\n",
       "      <td>0</td>\n",
       "      <td>1</td>\n",
       "      <td>1</td>\n",
       "      <td>1</td>\n",
       "      <td>2</td>\n",
       "      <td>0</td>\n",
       "      <td>0</td>\n",
       "      <td>0</td>\n",
       "      <td>...</td>\n",
       "      <td>1</td>\n",
       "      <td>1</td>\n",
       "      <td>0</td>\n",
       "      <td>2</td>\n",
       "      <td>1</td>\n",
       "      <td>1</td>\n",
       "      <td>0</td>\n",
       "      <td>2</td>\n",
       "      <td>0</td>\n",
       "      <td>3</td>\n",
       "    </tr>\n",
       "    <tr>\n",
       "      <th>1196</th>\n",
       "      <td>1</td>\n",
       "      <td>1</td>\n",
       "      <td>2</td>\n",
       "      <td>1</td>\n",
       "      <td>1</td>\n",
       "      <td>1</td>\n",
       "      <td>2</td>\n",
       "      <td>0</td>\n",
       "      <td>0</td>\n",
       "      <td>0</td>\n",
       "      <td>...</td>\n",
       "      <td>1</td>\n",
       "      <td>1</td>\n",
       "      <td>1</td>\n",
       "      <td>0</td>\n",
       "      <td>1</td>\n",
       "      <td>1</td>\n",
       "      <td>0</td>\n",
       "      <td>1</td>\n",
       "      <td>0</td>\n",
       "      <td>3</td>\n",
       "    </tr>\n",
       "    <tr>\n",
       "      <th>1197</th>\n",
       "      <td>0</td>\n",
       "      <td>0</td>\n",
       "      <td>1</td>\n",
       "      <td>0</td>\n",
       "      <td>1</td>\n",
       "      <td>1</td>\n",
       "      <td>2</td>\n",
       "      <td>0</td>\n",
       "      <td>2</td>\n",
       "      <td>1</td>\n",
       "      <td>...</td>\n",
       "      <td>1</td>\n",
       "      <td>0</td>\n",
       "      <td>0</td>\n",
       "      <td>0</td>\n",
       "      <td>0</td>\n",
       "      <td>1</td>\n",
       "      <td>1</td>\n",
       "      <td>0</td>\n",
       "      <td>0</td>\n",
       "      <td>3</td>\n",
       "    </tr>\n",
       "    <tr>\n",
       "      <th>1198</th>\n",
       "      <td>2</td>\n",
       "      <td>2</td>\n",
       "      <td>1</td>\n",
       "      <td>2</td>\n",
       "      <td>1</td>\n",
       "      <td>1</td>\n",
       "      <td>2</td>\n",
       "      <td>0</td>\n",
       "      <td>1</td>\n",
       "      <td>2</td>\n",
       "      <td>...</td>\n",
       "      <td>1</td>\n",
       "      <td>1</td>\n",
       "      <td>2</td>\n",
       "      <td>2</td>\n",
       "      <td>1</td>\n",
       "      <td>1</td>\n",
       "      <td>0</td>\n",
       "      <td>2</td>\n",
       "      <td>0</td>\n",
       "      <td>4</td>\n",
       "    </tr>\n",
       "    <tr>\n",
       "      <th>1199</th>\n",
       "      <td>2</td>\n",
       "      <td>1</td>\n",
       "      <td>2</td>\n",
       "      <td>2</td>\n",
       "      <td>1</td>\n",
       "      <td>0</td>\n",
       "      <td>2</td>\n",
       "      <td>0</td>\n",
       "      <td>1</td>\n",
       "      <td>0</td>\n",
       "      <td>...</td>\n",
       "      <td>1</td>\n",
       "      <td>1</td>\n",
       "      <td>1</td>\n",
       "      <td>2</td>\n",
       "      <td>1</td>\n",
       "      <td>1</td>\n",
       "      <td>0</td>\n",
       "      <td>0</td>\n",
       "      <td>0</td>\n",
       "      <td>3</td>\n",
       "    </tr>\n",
       "  </tbody>\n",
       "</table>\n",
       "<p>1200 rows × 21 columns</p>\n",
       "</div>"
      ],
      "text/plain": [
       "      Body Size  Body Weight  Height  Bone Structure  Complexion  \\\n",
       "0             1            1       1               2           2   \n",
       "1             1            1       0               1           1   \n",
       "2             0            1       1               1           1   \n",
       "3             0            1       0               0           1   \n",
       "4             2            1       0               1           0   \n",
       "...         ...          ...     ...             ...         ...   \n",
       "1195          1            1       0               1           1   \n",
       "1196          1            1       2               1           1   \n",
       "1197          0            0       1               0           1   \n",
       "1198          2            2       1               2           1   \n",
       "1199          2            1       2               2           1   \n",
       "\n",
       "      General feel of skin  Texture of Skin  Hair Color  Appearance of Hair  \\\n",
       "0                        0                0           0                   1   \n",
       "1                        0                2           1                   0   \n",
       "2                        1                2           0                   0   \n",
       "3                        0                2           0                   1   \n",
       "4                        1                2           0                   0   \n",
       "...                    ...              ...         ...                 ...   \n",
       "1195                     1                2           0                   0   \n",
       "1196                     1                2           0                   0   \n",
       "1197                     1                2           0                   2   \n",
       "1198                     1                2           0                   1   \n",
       "1199                     0                2           0                   1   \n",
       "\n",
       "      Shape of face  ...  Eyelashes  Blinking of Eyes  Cheeks  Nose  \\\n",
       "0                 0  ...          1                 1       0     2   \n",
       "1                 0  ...          1                 1       1     2   \n",
       "2                 0  ...          1                 1       1     2   \n",
       "3                 2  ...          0                 1       1     0   \n",
       "4                 0  ...          0                 1       0     1   \n",
       "...             ...  ...        ...               ...     ...   ...   \n",
       "1195              0  ...          1                 1       0     2   \n",
       "1196              0  ...          1                 1       1     0   \n",
       "1197              1  ...          1                 0       0     0   \n",
       "1198              2  ...          1                 1       2     2   \n",
       "1199              0  ...          1                 1       1     2   \n",
       "\n",
       "      Teeth and gums  Lips  Nails  Appetite  Liking tastes  Dosha  \n",
       "0                  2     0      2         2              0      3  \n",
       "1                  1     0      0         2              0      3  \n",
       "2                  1     1      1         2              0      1  \n",
       "3                  1     1      0         2              0      3  \n",
       "4                  1     1      1         1              1      3  \n",
       "...              ...   ...    ...       ...            ...    ...  \n",
       "1195               1     1      0         2              0      3  \n",
       "1196               1     1      0         1              0      3  \n",
       "1197               0     1      1         0              0      3  \n",
       "1198               1     1      0         2              0      4  \n",
       "1199               1     1      0         0              0      3  \n",
       "\n",
       "[1200 rows x 21 columns]"
      ]
     },
     "execution_count": 127,
     "metadata": {},
     "output_type": "execute_result"
    }
   ],
   "source": [
    "dataset = pd.read_csv(\"../dataset/data.csv\")\n",
    "dataset"
   ]
  },
  {
   "cell_type": "code",
   "execution_count": 128,
   "metadata": {},
   "outputs": [
    {
     "name": "stdout",
     "output_type": "stream",
     "text": [
      "[[1 1 1 ... 2 2 0]\n",
      " [1 1 0 ... 0 2 0]\n",
      " [0 1 1 ... 1 2 0]\n",
      " ...\n",
      " [0 0 1 ... 1 0 0]\n",
      " [2 2 1 ... 0 2 0]\n",
      " [2 1 2 ... 0 0 0]]\n"
     ]
    }
   ],
   "source": [
    "X=dataset.iloc[:,:-1].values\n",
    "Y=dataset.iloc[:,20].values\n",
    "print(X)"
   ]
  },
  {
   "cell_type": "code",
   "execution_count": 129,
   "metadata": {},
   "outputs": [
    {
     "name": "stdout",
     "output_type": "stream",
     "text": [
      "[3 3 1 ... 3 4 3]\n"
     ]
    }
   ],
   "source": [
    "print(Y)"
   ]
  },
  {
   "cell_type": "code",
   "execution_count": 130,
   "metadata": {},
   "outputs": [],
   "source": [
    "X_train, X_test, y_train, y_test = train_test_split(X, Y, test_size = 0.2, random_state = 42)\n"
   ]
  },
  {
   "cell_type": "code",
   "execution_count": 131,
   "metadata": {},
   "outputs": [
    {
     "data": {
      "text/plain": [
       "array([[1, 1, 0, ..., 0, 1, 0],\n",
       "       [1, 1, 0, ..., 0, 1, 1],\n",
       "       [1, 0, 0, ..., 0, 0, 0],\n",
       "       ...,\n",
       "       [1, 0, 1, ..., 1, 0, 1],\n",
       "       [0, 1, 0, ..., 1, 2, 0],\n",
       "       [0, 0, 1, ..., 1, 2, 2]], dtype=int64)"
      ]
     },
     "execution_count": 131,
     "metadata": {},
     "output_type": "execute_result"
    }
   ],
   "source": [
    "X_train"
   ]
  },
  {
   "cell_type": "code",
   "execution_count": 132,
   "metadata": {},
   "outputs": [
    {
     "data": {
      "text/html": [
       "<div>\n",
       "<style scoped>\n",
       "    .dataframe tbody tr th:only-of-type {\n",
       "        vertical-align: middle;\n",
       "    }\n",
       "\n",
       "    .dataframe tbody tr th {\n",
       "        vertical-align: top;\n",
       "    }\n",
       "\n",
       "    .dataframe thead th {\n",
       "        text-align: right;\n",
       "    }\n",
       "</style>\n",
       "<table border=\"1\" class=\"dataframe\">\n",
       "  <thead>\n",
       "    <tr style=\"text-align: right;\">\n",
       "      <th></th>\n",
       "      <th>Body Size</th>\n",
       "      <th>Body Weight</th>\n",
       "      <th>Height</th>\n",
       "      <th>Bone Structure</th>\n",
       "      <th>Complexion</th>\n",
       "      <th>General feel of skin</th>\n",
       "      <th>Texture of Skin</th>\n",
       "      <th>Hair Color</th>\n",
       "      <th>Appearance of Hair</th>\n",
       "      <th>Shape of face</th>\n",
       "      <th>...</th>\n",
       "      <th>Eyelashes</th>\n",
       "      <th>Blinking of Eyes</th>\n",
       "      <th>Cheeks</th>\n",
       "      <th>Nose</th>\n",
       "      <th>Teeth and gums</th>\n",
       "      <th>Lips</th>\n",
       "      <th>Nails</th>\n",
       "      <th>Appetite</th>\n",
       "      <th>Liking tastes</th>\n",
       "      <th>Dosha</th>\n",
       "    </tr>\n",
       "  </thead>\n",
       "  <tbody>\n",
       "    <tr>\n",
       "      <th>0</th>\n",
       "      <td>1</td>\n",
       "      <td>1</td>\n",
       "      <td>1</td>\n",
       "      <td>2</td>\n",
       "      <td>2</td>\n",
       "      <td>0</td>\n",
       "      <td>0</td>\n",
       "      <td>0</td>\n",
       "      <td>1</td>\n",
       "      <td>0</td>\n",
       "      <td>...</td>\n",
       "      <td>1</td>\n",
       "      <td>1</td>\n",
       "      <td>0</td>\n",
       "      <td>2</td>\n",
       "      <td>2</td>\n",
       "      <td>0</td>\n",
       "      <td>2</td>\n",
       "      <td>2</td>\n",
       "      <td>0</td>\n",
       "      <td>3</td>\n",
       "    </tr>\n",
       "    <tr>\n",
       "      <th>1</th>\n",
       "      <td>1</td>\n",
       "      <td>1</td>\n",
       "      <td>0</td>\n",
       "      <td>1</td>\n",
       "      <td>1</td>\n",
       "      <td>0</td>\n",
       "      <td>2</td>\n",
       "      <td>1</td>\n",
       "      <td>0</td>\n",
       "      <td>0</td>\n",
       "      <td>...</td>\n",
       "      <td>1</td>\n",
       "      <td>1</td>\n",
       "      <td>1</td>\n",
       "      <td>2</td>\n",
       "      <td>1</td>\n",
       "      <td>0</td>\n",
       "      <td>0</td>\n",
       "      <td>2</td>\n",
       "      <td>0</td>\n",
       "      <td>3</td>\n",
       "    </tr>\n",
       "    <tr>\n",
       "      <th>2</th>\n",
       "      <td>0</td>\n",
       "      <td>1</td>\n",
       "      <td>1</td>\n",
       "      <td>1</td>\n",
       "      <td>1</td>\n",
       "      <td>1</td>\n",
       "      <td>2</td>\n",
       "      <td>0</td>\n",
       "      <td>0</td>\n",
       "      <td>0</td>\n",
       "      <td>...</td>\n",
       "      <td>1</td>\n",
       "      <td>1</td>\n",
       "      <td>1</td>\n",
       "      <td>2</td>\n",
       "      <td>1</td>\n",
       "      <td>1</td>\n",
       "      <td>1</td>\n",
       "      <td>2</td>\n",
       "      <td>0</td>\n",
       "      <td>1</td>\n",
       "    </tr>\n",
       "    <tr>\n",
       "      <th>3</th>\n",
       "      <td>0</td>\n",
       "      <td>1</td>\n",
       "      <td>0</td>\n",
       "      <td>0</td>\n",
       "      <td>1</td>\n",
       "      <td>0</td>\n",
       "      <td>2</td>\n",
       "      <td>0</td>\n",
       "      <td>1</td>\n",
       "      <td>2</td>\n",
       "      <td>...</td>\n",
       "      <td>0</td>\n",
       "      <td>1</td>\n",
       "      <td>1</td>\n",
       "      <td>0</td>\n",
       "      <td>1</td>\n",
       "      <td>1</td>\n",
       "      <td>0</td>\n",
       "      <td>2</td>\n",
       "      <td>0</td>\n",
       "      <td>3</td>\n",
       "    </tr>\n",
       "    <tr>\n",
       "      <th>4</th>\n",
       "      <td>2</td>\n",
       "      <td>1</td>\n",
       "      <td>0</td>\n",
       "      <td>1</td>\n",
       "      <td>0</td>\n",
       "      <td>1</td>\n",
       "      <td>2</td>\n",
       "      <td>0</td>\n",
       "      <td>0</td>\n",
       "      <td>0</td>\n",
       "      <td>...</td>\n",
       "      <td>0</td>\n",
       "      <td>1</td>\n",
       "      <td>0</td>\n",
       "      <td>1</td>\n",
       "      <td>1</td>\n",
       "      <td>1</td>\n",
       "      <td>1</td>\n",
       "      <td>1</td>\n",
       "      <td>1</td>\n",
       "      <td>3</td>\n",
       "    </tr>\n",
       "    <tr>\n",
       "      <th>...</th>\n",
       "      <td>...</td>\n",
       "      <td>...</td>\n",
       "      <td>...</td>\n",
       "      <td>...</td>\n",
       "      <td>...</td>\n",
       "      <td>...</td>\n",
       "      <td>...</td>\n",
       "      <td>...</td>\n",
       "      <td>...</td>\n",
       "      <td>...</td>\n",
       "      <td>...</td>\n",
       "      <td>...</td>\n",
       "      <td>...</td>\n",
       "      <td>...</td>\n",
       "      <td>...</td>\n",
       "      <td>...</td>\n",
       "      <td>...</td>\n",
       "      <td>...</td>\n",
       "      <td>...</td>\n",
       "      <td>...</td>\n",
       "      <td>...</td>\n",
       "    </tr>\n",
       "    <tr>\n",
       "      <th>1195</th>\n",
       "      <td>1</td>\n",
       "      <td>1</td>\n",
       "      <td>0</td>\n",
       "      <td>1</td>\n",
       "      <td>1</td>\n",
       "      <td>1</td>\n",
       "      <td>2</td>\n",
       "      <td>0</td>\n",
       "      <td>0</td>\n",
       "      <td>0</td>\n",
       "      <td>...</td>\n",
       "      <td>1</td>\n",
       "      <td>1</td>\n",
       "      <td>0</td>\n",
       "      <td>2</td>\n",
       "      <td>1</td>\n",
       "      <td>1</td>\n",
       "      <td>0</td>\n",
       "      <td>2</td>\n",
       "      <td>0</td>\n",
       "      <td>3</td>\n",
       "    </tr>\n",
       "    <tr>\n",
       "      <th>1196</th>\n",
       "      <td>1</td>\n",
       "      <td>1</td>\n",
       "      <td>2</td>\n",
       "      <td>1</td>\n",
       "      <td>1</td>\n",
       "      <td>1</td>\n",
       "      <td>2</td>\n",
       "      <td>0</td>\n",
       "      <td>0</td>\n",
       "      <td>0</td>\n",
       "      <td>...</td>\n",
       "      <td>1</td>\n",
       "      <td>1</td>\n",
       "      <td>1</td>\n",
       "      <td>0</td>\n",
       "      <td>1</td>\n",
       "      <td>1</td>\n",
       "      <td>0</td>\n",
       "      <td>1</td>\n",
       "      <td>0</td>\n",
       "      <td>3</td>\n",
       "    </tr>\n",
       "    <tr>\n",
       "      <th>1197</th>\n",
       "      <td>0</td>\n",
       "      <td>0</td>\n",
       "      <td>1</td>\n",
       "      <td>0</td>\n",
       "      <td>1</td>\n",
       "      <td>1</td>\n",
       "      <td>2</td>\n",
       "      <td>0</td>\n",
       "      <td>2</td>\n",
       "      <td>1</td>\n",
       "      <td>...</td>\n",
       "      <td>1</td>\n",
       "      <td>0</td>\n",
       "      <td>0</td>\n",
       "      <td>0</td>\n",
       "      <td>0</td>\n",
       "      <td>1</td>\n",
       "      <td>1</td>\n",
       "      <td>0</td>\n",
       "      <td>0</td>\n",
       "      <td>3</td>\n",
       "    </tr>\n",
       "    <tr>\n",
       "      <th>1198</th>\n",
       "      <td>2</td>\n",
       "      <td>2</td>\n",
       "      <td>1</td>\n",
       "      <td>2</td>\n",
       "      <td>1</td>\n",
       "      <td>1</td>\n",
       "      <td>2</td>\n",
       "      <td>0</td>\n",
       "      <td>1</td>\n",
       "      <td>2</td>\n",
       "      <td>...</td>\n",
       "      <td>1</td>\n",
       "      <td>1</td>\n",
       "      <td>2</td>\n",
       "      <td>2</td>\n",
       "      <td>1</td>\n",
       "      <td>1</td>\n",
       "      <td>0</td>\n",
       "      <td>2</td>\n",
       "      <td>0</td>\n",
       "      <td>4</td>\n",
       "    </tr>\n",
       "    <tr>\n",
       "      <th>1199</th>\n",
       "      <td>2</td>\n",
       "      <td>1</td>\n",
       "      <td>2</td>\n",
       "      <td>2</td>\n",
       "      <td>1</td>\n",
       "      <td>0</td>\n",
       "      <td>2</td>\n",
       "      <td>0</td>\n",
       "      <td>1</td>\n",
       "      <td>0</td>\n",
       "      <td>...</td>\n",
       "      <td>1</td>\n",
       "      <td>1</td>\n",
       "      <td>1</td>\n",
       "      <td>2</td>\n",
       "      <td>1</td>\n",
       "      <td>1</td>\n",
       "      <td>0</td>\n",
       "      <td>0</td>\n",
       "      <td>0</td>\n",
       "      <td>3</td>\n",
       "    </tr>\n",
       "  </tbody>\n",
       "</table>\n",
       "<p>1200 rows × 21 columns</p>\n",
       "</div>"
      ],
      "text/plain": [
       "      Body Size  Body Weight  Height  Bone Structure  Complexion  \\\n",
       "0             1            1       1               2           2   \n",
       "1             1            1       0               1           1   \n",
       "2             0            1       1               1           1   \n",
       "3             0            1       0               0           1   \n",
       "4             2            1       0               1           0   \n",
       "...         ...          ...     ...             ...         ...   \n",
       "1195          1            1       0               1           1   \n",
       "1196          1            1       2               1           1   \n",
       "1197          0            0       1               0           1   \n",
       "1198          2            2       1               2           1   \n",
       "1199          2            1       2               2           1   \n",
       "\n",
       "      General feel of skin  Texture of Skin  Hair Color  Appearance of Hair  \\\n",
       "0                        0                0           0                   1   \n",
       "1                        0                2           1                   0   \n",
       "2                        1                2           0                   0   \n",
       "3                        0                2           0                   1   \n",
       "4                        1                2           0                   0   \n",
       "...                    ...              ...         ...                 ...   \n",
       "1195                     1                2           0                   0   \n",
       "1196                     1                2           0                   0   \n",
       "1197                     1                2           0                   2   \n",
       "1198                     1                2           0                   1   \n",
       "1199                     0                2           0                   1   \n",
       "\n",
       "      Shape of face  ...  Eyelashes  Blinking of Eyes  Cheeks  Nose  \\\n",
       "0                 0  ...          1                 1       0     2   \n",
       "1                 0  ...          1                 1       1     2   \n",
       "2                 0  ...          1                 1       1     2   \n",
       "3                 2  ...          0                 1       1     0   \n",
       "4                 0  ...          0                 1       0     1   \n",
       "...             ...  ...        ...               ...     ...   ...   \n",
       "1195              0  ...          1                 1       0     2   \n",
       "1196              0  ...          1                 1       1     0   \n",
       "1197              1  ...          1                 0       0     0   \n",
       "1198              2  ...          1                 1       2     2   \n",
       "1199              0  ...          1                 1       1     2   \n",
       "\n",
       "      Teeth and gums  Lips  Nails  Appetite  Liking tastes  Dosha  \n",
       "0                  2     0      2         2              0      3  \n",
       "1                  1     0      0         2              0      3  \n",
       "2                  1     1      1         2              0      1  \n",
       "3                  1     1      0         2              0      3  \n",
       "4                  1     1      1         1              1      3  \n",
       "...              ...   ...    ...       ...            ...    ...  \n",
       "1195               1     1      0         2              0      3  \n",
       "1196               1     1      0         1              0      3  \n",
       "1197               0     1      1         0              0      3  \n",
       "1198               1     1      0         2              0      4  \n",
       "1199               1     1      0         0              0      3  \n",
       "\n",
       "[1200 rows x 21 columns]"
      ]
     },
     "execution_count": 132,
     "metadata": {},
     "output_type": "execute_result"
    }
   ],
   "source": [
    "dataset"
   ]
  },
  {
   "cell_type": "code",
   "execution_count": 133,
   "metadata": {},
   "outputs": [
    {
     "data": {
      "text/plain": [
       "array([[1, 1, 1, ..., 2, 2, 0],\n",
       "       [1, 1, 0, ..., 0, 2, 0],\n",
       "       [0, 1, 1, ..., 1, 2, 0],\n",
       "       ...,\n",
       "       [0, 0, 1, ..., 1, 0, 0],\n",
       "       [2, 2, 1, ..., 0, 2, 0],\n",
       "       [2, 1, 2, ..., 0, 0, 0]], dtype=int64)"
      ]
     },
     "execution_count": 133,
     "metadata": {},
     "output_type": "execute_result"
    }
   ],
   "source": [
    "X"
   ]
  },
  {
   "cell_type": "code",
   "execution_count": 134,
   "metadata": {},
   "outputs": [
    {
     "data": {
      "text/plain": [
       "array([3, 3, 1, ..., 3, 4, 3], dtype=int64)"
      ]
     },
     "execution_count": 134,
     "metadata": {},
     "output_type": "execute_result"
    }
   ],
   "source": [
    "Y"
   ]
  },
  {
   "cell_type": "code",
   "execution_count": 135,
   "metadata": {},
   "outputs": [],
   "source": [
    "model = keras.Sequential([\n",
    "    keras.layers.Dense(19,input_shape=(20,),activation='relu'),\n",
    "    keras.layers.Dense(300,activation='relu'),\n",
    "    keras.layers.Dense(250,activation='relu'),\n",
    "    keras.layers.Dense(200,activation='relu'),\n",
    "    keras.layers.Dense(150,activation='relu'),\n",
    "    keras.layers.Dense(100,activation='relu'),\n",
    "    keras.layers.Dense(50,activation='relu'),\n",
    "    keras.layers.Dense(45,activation='relu'),\n",
    "    keras.layers.Dense(30,activation='relu'),\n",
    "    keras.layers.Dense(20,activation='relu'),\n",
    "    keras.layers.Dense(15,activation='relu'),\n",
    "    keras.layers.Dense(6,activation='sigmoid')    \n",
    "])\n"
   ]
  },
  {
   "cell_type": "code",
   "execution_count": 136,
   "metadata": {},
   "outputs": [
    {
     "name": "stdout",
     "output_type": "stream",
     "text": [
      "Model: \"sequential_4\"\n",
      "_________________________________________________________________\n",
      " Layer (type)                Output Shape              Param #   \n",
      "=================================================================\n",
      " dense_48 (Dense)            (None, 19)                399       \n",
      "                                                                 \n",
      " dense_49 (Dense)            (None, 300)               6000      \n",
      "                                                                 \n",
      " dense_50 (Dense)            (None, 250)               75250     \n",
      "                                                                 \n",
      " dense_51 (Dense)            (None, 200)               50200     \n",
      "                                                                 \n",
      " dense_52 (Dense)            (None, 150)               30150     \n",
      "                                                                 \n",
      " dense_53 (Dense)            (None, 100)               15100     \n",
      "                                                                 \n",
      " dense_54 (Dense)            (None, 50)                5050      \n",
      "                                                                 \n",
      " dense_55 (Dense)            (None, 45)                2295      \n",
      "                                                                 \n",
      " dense_56 (Dense)            (None, 30)                1380      \n",
      "                                                                 \n",
      " dense_57 (Dense)            (None, 20)                620       \n",
      "                                                                 \n",
      " dense_58 (Dense)            (None, 15)                315       \n",
      "                                                                 \n",
      " dense_59 (Dense)            (None, 6)                 96        \n",
      "                                                                 \n",
      "=================================================================\n",
      "Total params: 186855 (729.90 KB)\n",
      "Trainable params: 186855 (729.90 KB)\n",
      "Non-trainable params: 0 (0.00 Byte)\n",
      "_________________________________________________________________\n"
     ]
    }
   ],
   "source": [
    "model.summary()"
   ]
  },
  {
   "cell_type": "code",
   "execution_count": 137,
   "metadata": {},
   "outputs": [],
   "source": [
    "adam=optimizers.Adam()"
   ]
  },
  {
   "cell_type": "code",
   "execution_count": 138,
   "metadata": {},
   "outputs": [],
   "source": [
    "\n",
    "model.compile(\n",
    "    optimizer=adam,\n",
    "    loss='sparse_categorical_crossentropy',\n",
    "    metrics=['accuracy']\n",
    ")"
   ]
  },
  {
   "cell_type": "code",
   "execution_count": 139,
   "metadata": {},
   "outputs": [
    {
     "name": "stdout",
     "output_type": "stream",
     "text": [
      "Epoch 1/20\n",
      "12/12 [==============================] - 2s 29ms/step - loss: 1.6791 - accuracy: 0.4336 - val_loss: 1.4992 - val_accuracy: 0.5052\n",
      "Epoch 2/20\n",
      "12/12 [==============================] - 0s 9ms/step - loss: 1.4515 - accuracy: 0.5234 - val_loss: 1.3652 - val_accuracy: 0.5052\n",
      "Epoch 3/20\n",
      "12/12 [==============================] - 0s 11ms/step - loss: 1.2980 - accuracy: 0.5234 - val_loss: 1.2109 - val_accuracy: 0.5052\n",
      "Epoch 4/20\n",
      "12/12 [==============================] - 0s 9ms/step - loss: 1.0568 - accuracy: 0.5326 - val_loss: 0.9682 - val_accuracy: 0.5521\n",
      "Epoch 5/20\n",
      "12/12 [==============================] - 0s 9ms/step - loss: 0.8528 - accuracy: 0.6016 - val_loss: 0.7069 - val_accuracy: 0.6615\n",
      "Epoch 6/20\n",
      "12/12 [==============================] - 0s 12ms/step - loss: 0.6419 - accuracy: 0.7174 - val_loss: 0.4887 - val_accuracy: 0.8229\n",
      "Epoch 7/20\n",
      "12/12 [==============================] - 0s 11ms/step - loss: 0.4755 - accuracy: 0.8320 - val_loss: 0.3440 - val_accuracy: 0.8281\n",
      "Epoch 8/20\n",
      "12/12 [==============================] - 0s 9ms/step - loss: 0.2724 - accuracy: 0.9023 - val_loss: 0.1917 - val_accuracy: 0.9167\n",
      "Epoch 9/20\n",
      "12/12 [==============================] - 0s 9ms/step - loss: 0.1591 - accuracy: 0.9401 - val_loss: 0.1086 - val_accuracy: 0.9583\n",
      "Epoch 10/20\n",
      "12/12 [==============================] - 0s 10ms/step - loss: 0.1745 - accuracy: 0.9206 - val_loss: 0.3037 - val_accuracy: 0.8802\n",
      "Epoch 11/20\n",
      "12/12 [==============================] - 0s 12ms/step - loss: 0.3684 - accuracy: 0.8320 - val_loss: 0.2865 - val_accuracy: 0.8750\n",
      "Epoch 12/20\n",
      "12/12 [==============================] - 0s 10ms/step - loss: 0.2790 - accuracy: 0.8984 - val_loss: 0.2583 - val_accuracy: 0.9010\n",
      "Epoch 13/20\n",
      "12/12 [==============================] - 0s 11ms/step - loss: 0.2015 - accuracy: 0.9167 - val_loss: 0.1499 - val_accuracy: 0.9271\n",
      "Epoch 14/20\n",
      "12/12 [==============================] - 0s 15ms/step - loss: 0.1384 - accuracy: 0.9414 - val_loss: 0.1002 - val_accuracy: 0.9531\n",
      "Epoch 15/20\n",
      "12/12 [==============================] - 0s 11ms/step - loss: 0.0972 - accuracy: 0.9661 - val_loss: 0.0908 - val_accuracy: 0.9583\n",
      "Epoch 16/20\n",
      "12/12 [==============================] - 0s 10ms/step - loss: 0.0655 - accuracy: 0.9844 - val_loss: 0.0434 - val_accuracy: 1.0000\n",
      "Epoch 17/20\n",
      "12/12 [==============================] - 0s 10ms/step - loss: 0.0448 - accuracy: 0.9961 - val_loss: 0.0321 - val_accuracy: 1.0000\n",
      "Epoch 18/20\n",
      "12/12 [==============================] - 0s 10ms/step - loss: 0.0354 - accuracy: 0.9948 - val_loss: 0.0209 - val_accuracy: 1.0000\n",
      "Epoch 19/20\n",
      "12/12 [==============================] - 0s 9ms/step - loss: 0.0233 - accuracy: 0.9987 - val_loss: 0.0137 - val_accuracy: 1.0000\n",
      "Epoch 20/20\n",
      "12/12 [==============================] - 0s 10ms/step - loss: 0.0245 - accuracy: 0.9909 - val_loss: 0.0472 - val_accuracy: 0.9844\n"
     ]
    },
    {
     "data": {
      "text/plain": [
       "<keras.src.callbacks.History at 0x15ccc25ba30>"
      ]
     },
     "execution_count": 139,
     "metadata": {},
     "output_type": "execute_result"
    },
    {
     "data": {
      "text/plain": [
       "<keras.src.callbacks.History at 0x15ccc25ba30>"
      ]
     },
     "execution_count": 139,
     "metadata": {},
     "output_type": "execute_result"
    }
   ],
   "source": [
    "model.fit(X_train,y_train,epochs=20, batch_size=64, validation_split=0.2)"
   ]
  },
  {
   "cell_type": "code",
   "execution_count": 140,
   "metadata": {},
   "outputs": [
    {
     "data": {
      "text/plain": [
       "array([1, 1, 0, 1, 1, 0, 2, 0, 0, 0, 2, 0, 0, 0, 1, 1, 0, 0, 1, 0],\n",
       "      dtype=int64)"
      ]
     },
     "execution_count": 140,
     "metadata": {},
     "output_type": "execute_result"
    }
   ],
   "source": [
    "X_train[0]"
   ]
  },
  {
   "cell_type": "code",
   "execution_count": 141,
   "metadata": {},
   "outputs": [
    {
     "data": {
      "text/plain": [
       "array([[1, 1, 1, ..., 1, 0, 0],\n",
       "       [1, 1, 1, ..., 1, 0, 0],\n",
       "       [1, 1, 0, ..., 0, 2, 0],\n",
       "       ...,\n",
       "       [1, 0, 0, ..., 1, 0, 0],\n",
       "       [1, 1, 1, ..., 2, 2, 0],\n",
       "       [0, 0, 1, ..., 0, 0, 0]], dtype=int64)"
      ]
     },
     "execution_count": 141,
     "metadata": {},
     "output_type": "execute_result"
    }
   ],
   "source": [
    "X_test"
   ]
  },
  {
   "cell_type": "code",
   "execution_count": 142,
   "metadata": {},
   "outputs": [
    {
     "name": "stdout",
     "output_type": "stream",
     "text": [
      "8/8 [==============================] - 0s 2ms/step\n"
     ]
    },
    {
     "data": {
      "text/plain": [
       "array([[1.2999391e-02, 9.9999326e-01, 1.2897221e-02, 9.9777704e-01,\n",
       "        5.2550828e-01, 9.9914330e-01],\n",
       "       [9.9980962e-01, 9.9923283e-01, 2.6627766e-02, 1.0000000e+00,\n",
       "        4.0437305e-01, 8.3676986e-02],\n",
       "       [9.9999291e-01, 9.9876332e-01, 1.7741144e-02, 1.0000000e+00,\n",
       "        4.7740346e-01, 3.9028417e-02],\n",
       "       ...,\n",
       "       [1.0000000e+00, 5.1194434e-03, 3.2696556e-02, 1.0000000e+00,\n",
       "        9.3038720e-01, 8.1069549e-05],\n",
       "       [4.6205689e-04, 1.0000000e+00, 7.3903473e-04, 9.9999005e-01,\n",
       "        4.6525618e-01, 9.9998784e-01],\n",
       "       [1.0000000e+00, 1.8773065e-04, 1.2814927e-02, 1.0000000e+00,\n",
       "        9.9074399e-01, 1.6694150e-07]], dtype=float32)"
      ]
     },
     "execution_count": 142,
     "metadata": {},
     "output_type": "execute_result"
    }
   ],
   "source": [
    "model.predict(X_test)"
   ]
  },
  {
   "cell_type": "code",
   "execution_count": 143,
   "metadata": {},
   "outputs": [
    {
     "name": "stdout",
     "output_type": "stream",
     "text": [
      "1/1 [==============================] - 0s 132ms/step\n"
     ]
    },
    {
     "data": {
      "text/plain": [
       "3"
      ]
     },
     "execution_count": 143,
     "metadata": {},
     "output_type": "execute_result"
    }
   ],
   "source": [
    "np.argmax(model.predict(np.array([[2,1,2,2,1,0,2,0,1,0,1,1,1,1,2,1,1,0,0,0]])))"
   ]
  },
  {
   "cell_type": "code",
   "execution_count": 144,
   "metadata": {},
   "outputs": [],
   "source": [
    "from sklearn.metrics import classification_report,accuracy_score,confusion_matrix,precision_score,recall_score"
   ]
  },
  {
   "cell_type": "code",
   "execution_count": 145,
   "metadata": {},
   "outputs": [
    {
     "name": "stdout",
     "output_type": "stream",
     "text": [
      "1/8 [==>...........................] - ETA: 0s8/8 [==============================] - 0s 3ms/step\n"
     ]
    },
    {
     "name": "stdout",
     "output_type": "stream",
     "text": [
      "8/8 [==============================] - 0s 3ms/step\n"
     ]
    }
   ],
   "source": [
    "Y_pred=model.predict(X_test)"
   ]
  },
  {
   "cell_type": "code",
   "execution_count": 146,
   "metadata": {},
   "outputs": [
    {
     "data": {
      "text/plain": [
       "array([[1.2999391e-02, 9.9999326e-01, 1.2897221e-02, 9.9777704e-01,\n",
       "        5.2550828e-01, 9.9914330e-01],\n",
       "       [9.9980962e-01, 9.9923283e-01, 2.6627766e-02, 1.0000000e+00,\n",
       "        4.0437305e-01, 8.3676986e-02],\n",
       "       [9.9999291e-01, 9.9876332e-01, 1.7741144e-02, 1.0000000e+00,\n",
       "        4.7740346e-01, 3.9028417e-02],\n",
       "       ...,\n",
       "       [1.0000000e+00, 5.1194434e-03, 3.2696556e-02, 1.0000000e+00,\n",
       "        9.3038720e-01, 8.1069549e-05],\n",
       "       [4.6205689e-04, 1.0000000e+00, 7.3903473e-04, 9.9999005e-01,\n",
       "        4.6525618e-01, 9.9998784e-01],\n",
       "       [1.0000000e+00, 1.8773065e-04, 1.2814927e-02, 1.0000000e+00,\n",
       "        9.9074399e-01, 1.6694150e-07]], dtype=float32)"
      ]
     },
     "execution_count": 146,
     "metadata": {},
     "output_type": "execute_result"
    }
   ],
   "source": [
    "Y_pred"
   ]
  },
  {
   "cell_type": "code",
   "execution_count": 147,
   "metadata": {},
   "outputs": [],
   "source": [
    "target=[\"Vata\",\"Pitta\",\"Kapha\",\"vata+pitta\",\"vata+kapha\",\"pitta+kapha\"]"
   ]
  },
  {
   "cell_type": "code",
   "execution_count": 148,
   "metadata": {},
   "outputs": [
    {
     "data": {
      "text/plain": [
       "[1,\n",
       " 3,\n",
       " 3,\n",
       " 3,\n",
       " 5,\n",
       " 1,\n",
       " 3,\n",
       " 0,\n",
       " 2,\n",
       " 3,\n",
       " 1,\n",
       " 4,\n",
       " 5,\n",
       " 5,\n",
       " 0,\n",
       " 3,\n",
       " 3,\n",
       " 3,\n",
       " 3,\n",
       " 3,\n",
       " 3,\n",
       " 3,\n",
       " 0,\n",
       " 4,\n",
       " 3,\n",
       " 3,\n",
       " 3,\n",
       " 3,\n",
       " 5,\n",
       " 4,\n",
       " 3,\n",
       " 1,\n",
       " 1,\n",
       " 2,\n",
       " 3,\n",
       " 3,\n",
       " 2,\n",
       " 3,\n",
       " 3,\n",
       " 0,\n",
       " 3,\n",
       " 3,\n",
       " 1,\n",
       " 3,\n",
       " 2,\n",
       " 0,\n",
       " 3,\n",
       " 3,\n",
       " 3,\n",
       " 3,\n",
       " 3,\n",
       " 0,\n",
       " 3,\n",
       " 5,\n",
       " 0,\n",
       " 5,\n",
       " 3,\n",
       " 0,\n",
       " 3,\n",
       " 3,\n",
       " 3,\n",
       " 3,\n",
       " 3,\n",
       " 1,\n",
       " 3,\n",
       " 1,\n",
       " 3,\n",
       " 3,\n",
       " 5,\n",
       " 3,\n",
       " 4,\n",
       " 0,\n",
       " 0,\n",
       " 3,\n",
       " 1,\n",
       " 3,\n",
       " 2,\n",
       " 0,\n",
       " 0,\n",
       " 2,\n",
       " 5,\n",
       " 3,\n",
       " 4,\n",
       " 3,\n",
       " 1,\n",
       " 3,\n",
       " 0,\n",
       " 0,\n",
       " 3,\n",
       " 0,\n",
       " 3,\n",
       " 0,\n",
       " 1,\n",
       " 3,\n",
       " 3,\n",
       " 3,\n",
       " 3,\n",
       " 3,\n",
       " 1,\n",
       " 3,\n",
       " 0,\n",
       " 0,\n",
       " 0,\n",
       " 3,\n",
       " 3,\n",
       " 3,\n",
       " 3,\n",
       " 1,\n",
       " 3,\n",
       " 0,\n",
       " 3,\n",
       " 3,\n",
       " 0,\n",
       " 0,\n",
       " 3,\n",
       " 3,\n",
       " 4,\n",
       " 5,\n",
       " 0,\n",
       " 1,\n",
       " 3,\n",
       " 3,\n",
       " 3,\n",
       " 3,\n",
       " 3,\n",
       " 1,\n",
       " 2,\n",
       " 3,\n",
       " 1,\n",
       " 3,\n",
       " 0,\n",
       " 0,\n",
       " 1,\n",
       " 3,\n",
       " 0,\n",
       " 3,\n",
       " 3,\n",
       " 1,\n",
       " 3,\n",
       " 4,\n",
       " 0,\n",
       " 3,\n",
       " 1,\n",
       " 0,\n",
       " 3,\n",
       " 5,\n",
       " 2,\n",
       " 3,\n",
       " 0,\n",
       " 3,\n",
       " 1,\n",
       " 2,\n",
       " 3,\n",
       " 3,\n",
       " 3,\n",
       " 3,\n",
       " 3,\n",
       " 0,\n",
       " 5,\n",
       " 1,\n",
       " 3,\n",
       " 2,\n",
       " 5,\n",
       " 3,\n",
       " 3,\n",
       " 3,\n",
       " 3,\n",
       " 3,\n",
       " 3,\n",
       " 0,\n",
       " 3,\n",
       " 3,\n",
       " 0,\n",
       " 4,\n",
       " 3,\n",
       " 0,\n",
       " 1,\n",
       " 0,\n",
       " 3,\n",
       " 3,\n",
       " 5,\n",
       " 3,\n",
       " 1,\n",
       " 3,\n",
       " 3,\n",
       " 0,\n",
       " 0,\n",
       " 3,\n",
       " 0,\n",
       " 1,\n",
       " 3,\n",
       " 1,\n",
       " 3,\n",
       " 0,\n",
       " 3,\n",
       " 4,\n",
       " 1,\n",
       " 1,\n",
       " 3,\n",
       " 0,\n",
       " 1,\n",
       " 3,\n",
       " 0,\n",
       " 0,\n",
       " 3,\n",
       " 1,\n",
       " 3,\n",
       " 2,\n",
       " 3,\n",
       " 3,\n",
       " 3,\n",
       " 3,\n",
       " 0,\n",
       " 4,\n",
       " 3,\n",
       " 3,\n",
       " 0,\n",
       " 0,\n",
       " 0,\n",
       " 5,\n",
       " 0,\n",
       " 3,\n",
       " 3,\n",
       " 2,\n",
       " 1,\n",
       " 0,\n",
       " 3,\n",
       " 3,\n",
       " 0,\n",
       " 1,\n",
       " 3,\n",
       " 0,\n",
       " 2,\n",
       " 4,\n",
       " 0,\n",
       " 0,\n",
       " 3,\n",
       " 0,\n",
       " 1,\n",
       " 0]"
      ]
     },
     "execution_count": 148,
     "metadata": {},
     "output_type": "execute_result"
    }
   ],
   "source": [
    "y_predict_labels = [np.argmax(i) for i in Y_pred]\n",
    "y_predict_labels"
   ]
  },
  {
   "cell_type": "code",
   "execution_count": 149,
   "metadata": {},
   "outputs": [
    {
     "data": {
      "text/plain": [
       "['Pitta',\n",
       " 'vata+pitta',\n",
       " 'vata+pitta',\n",
       " 'vata+pitta',\n",
       " 'pitta+kapha',\n",
       " 'Pitta',\n",
       " 'vata+pitta',\n",
       " 'Vata',\n",
       " 'Kapha',\n",
       " 'vata+pitta',\n",
       " 'Pitta',\n",
       " 'vata+kapha',\n",
       " 'pitta+kapha',\n",
       " 'pitta+kapha',\n",
       " 'Vata',\n",
       " 'vata+pitta',\n",
       " 'vata+pitta',\n",
       " 'vata+pitta',\n",
       " 'vata+pitta',\n",
       " 'vata+pitta',\n",
       " 'vata+pitta',\n",
       " 'vata+pitta',\n",
       " 'Vata',\n",
       " 'vata+kapha',\n",
       " 'vata+pitta',\n",
       " 'vata+pitta',\n",
       " 'vata+pitta',\n",
       " 'vata+pitta',\n",
       " 'pitta+kapha',\n",
       " 'vata+kapha',\n",
       " 'vata+pitta',\n",
       " 'Pitta',\n",
       " 'Pitta',\n",
       " 'Kapha',\n",
       " 'vata+pitta',\n",
       " 'vata+pitta',\n",
       " 'Kapha',\n",
       " 'vata+pitta',\n",
       " 'vata+pitta',\n",
       " 'Vata',\n",
       " 'vata+pitta',\n",
       " 'vata+pitta',\n",
       " 'Pitta',\n",
       " 'vata+pitta',\n",
       " 'Kapha',\n",
       " 'Vata',\n",
       " 'vata+pitta',\n",
       " 'vata+pitta',\n",
       " 'vata+pitta',\n",
       " 'vata+pitta',\n",
       " 'vata+pitta',\n",
       " 'Vata',\n",
       " 'vata+pitta',\n",
       " 'pitta+kapha',\n",
       " 'Vata',\n",
       " 'pitta+kapha',\n",
       " 'vata+pitta',\n",
       " 'Vata',\n",
       " 'vata+pitta',\n",
       " 'vata+pitta',\n",
       " 'vata+pitta',\n",
       " 'vata+pitta',\n",
       " 'vata+pitta',\n",
       " 'Pitta',\n",
       " 'vata+pitta',\n",
       " 'Pitta',\n",
       " 'vata+pitta',\n",
       " 'vata+pitta',\n",
       " 'pitta+kapha',\n",
       " 'vata+pitta',\n",
       " 'vata+kapha',\n",
       " 'Vata',\n",
       " 'Vata',\n",
       " 'vata+pitta',\n",
       " 'Pitta',\n",
       " 'vata+pitta',\n",
       " 'Kapha',\n",
       " 'Vata',\n",
       " 'Vata',\n",
       " 'Kapha',\n",
       " 'pitta+kapha',\n",
       " 'vata+pitta',\n",
       " 'vata+kapha',\n",
       " 'vata+pitta',\n",
       " 'Pitta',\n",
       " 'vata+pitta',\n",
       " 'Vata',\n",
       " 'Vata',\n",
       " 'vata+pitta',\n",
       " 'Vata',\n",
       " 'vata+pitta',\n",
       " 'Vata',\n",
       " 'Pitta',\n",
       " 'vata+pitta',\n",
       " 'vata+pitta',\n",
       " 'vata+pitta',\n",
       " 'vata+pitta',\n",
       " 'vata+pitta',\n",
       " 'Pitta',\n",
       " 'vata+pitta',\n",
       " 'Vata',\n",
       " 'Vata',\n",
       " 'Vata',\n",
       " 'vata+pitta',\n",
       " 'vata+pitta',\n",
       " 'vata+pitta',\n",
       " 'vata+pitta',\n",
       " 'Pitta',\n",
       " 'vata+pitta',\n",
       " 'Vata',\n",
       " 'vata+pitta',\n",
       " 'vata+pitta',\n",
       " 'Vata',\n",
       " 'Vata',\n",
       " 'vata+pitta',\n",
       " 'vata+pitta',\n",
       " 'vata+kapha',\n",
       " 'pitta+kapha',\n",
       " 'Vata',\n",
       " 'Pitta',\n",
       " 'vata+pitta',\n",
       " 'vata+pitta',\n",
       " 'vata+pitta',\n",
       " 'vata+pitta',\n",
       " 'vata+pitta',\n",
       " 'Pitta',\n",
       " 'Kapha',\n",
       " 'vata+pitta',\n",
       " 'Pitta',\n",
       " 'vata+pitta',\n",
       " 'Vata',\n",
       " 'Vata',\n",
       " 'Pitta',\n",
       " 'vata+pitta',\n",
       " 'Vata',\n",
       " 'vata+pitta',\n",
       " 'vata+pitta',\n",
       " 'Pitta',\n",
       " 'vata+pitta',\n",
       " 'vata+kapha',\n",
       " 'Vata',\n",
       " 'vata+pitta',\n",
       " 'Pitta',\n",
       " 'Vata',\n",
       " 'vata+pitta',\n",
       " 'pitta+kapha',\n",
       " 'Kapha',\n",
       " 'vata+pitta',\n",
       " 'Vata',\n",
       " 'vata+pitta',\n",
       " 'Pitta',\n",
       " 'Kapha',\n",
       " 'vata+pitta',\n",
       " 'vata+pitta',\n",
       " 'vata+pitta',\n",
       " 'vata+pitta',\n",
       " 'vata+pitta',\n",
       " 'Vata',\n",
       " 'pitta+kapha',\n",
       " 'Pitta',\n",
       " 'vata+pitta',\n",
       " 'Kapha',\n",
       " 'pitta+kapha',\n",
       " 'vata+pitta',\n",
       " 'vata+pitta',\n",
       " 'vata+pitta',\n",
       " 'vata+pitta',\n",
       " 'vata+pitta',\n",
       " 'vata+pitta',\n",
       " 'Vata',\n",
       " 'vata+pitta',\n",
       " 'vata+pitta',\n",
       " 'Vata',\n",
       " 'vata+kapha',\n",
       " 'vata+pitta',\n",
       " 'Vata',\n",
       " 'Pitta',\n",
       " 'Vata',\n",
       " 'vata+pitta',\n",
       " 'vata+pitta',\n",
       " 'pitta+kapha',\n",
       " 'vata+pitta',\n",
       " 'Pitta',\n",
       " 'vata+pitta',\n",
       " 'vata+pitta',\n",
       " 'Vata',\n",
       " 'Vata',\n",
       " 'vata+pitta',\n",
       " 'Vata',\n",
       " 'Pitta',\n",
       " 'vata+pitta',\n",
       " 'Pitta',\n",
       " 'vata+pitta',\n",
       " 'Vata',\n",
       " 'vata+pitta',\n",
       " 'vata+kapha',\n",
       " 'Pitta',\n",
       " 'Pitta',\n",
       " 'vata+pitta',\n",
       " 'Vata',\n",
       " 'Pitta',\n",
       " 'vata+pitta',\n",
       " 'Vata',\n",
       " 'Vata',\n",
       " 'vata+pitta',\n",
       " 'Pitta',\n",
       " 'vata+pitta',\n",
       " 'Kapha',\n",
       " 'vata+pitta',\n",
       " 'vata+pitta',\n",
       " 'vata+pitta',\n",
       " 'vata+pitta',\n",
       " 'Vata',\n",
       " 'vata+kapha',\n",
       " 'vata+pitta',\n",
       " 'vata+pitta',\n",
       " 'Vata',\n",
       " 'Vata',\n",
       " 'Vata',\n",
       " 'pitta+kapha',\n",
       " 'Vata',\n",
       " 'vata+pitta',\n",
       " 'vata+pitta',\n",
       " 'Kapha',\n",
       " 'Pitta',\n",
       " 'Vata',\n",
       " 'vata+pitta',\n",
       " 'vata+pitta',\n",
       " 'Vata',\n",
       " 'Pitta',\n",
       " 'vata+pitta',\n",
       " 'Vata',\n",
       " 'Kapha',\n",
       " 'vata+kapha',\n",
       " 'Vata',\n",
       " 'Vata',\n",
       " 'vata+pitta',\n",
       " 'Vata',\n",
       " 'Pitta',\n",
       " 'Vata']"
      ]
     },
     "execution_count": 149,
     "metadata": {},
     "output_type": "execute_result"
    }
   ],
   "source": [
    "outputs=[target[i] for i in y_predict_labels]\n",
    "outputs"
   ]
  },
  {
   "cell_type": "code",
   "execution_count": 150,
   "metadata": {},
   "outputs": [
    {
     "name": "stdout",
     "output_type": "stream",
     "text": [
      "              precision    recall  f1-score   support\n",
      "\n",
      "           0       0.91      1.00      0.95        48\n",
      "           1       0.91      0.88      0.89        33\n",
      "           2       0.69      1.00      0.82         9\n",
      "           3       1.00      0.94      0.97       125\n",
      "           4       1.00      0.73      0.85        15\n",
      "           5       0.71      1.00      0.83        10\n",
      "\n",
      "    accuracy                           0.93       240\n",
      "   macro avg       0.87      0.92      0.88       240\n",
      "weighted avg       0.94      0.93      0.93       240\n",
      "\n"
     ]
    }
   ],
   "source": [
    "print(classification_report(y_test,y_predict_labels))"
   ]
  },
  {
   "cell_type": "code",
   "execution_count": 151,
   "metadata": {},
   "outputs": [
    {
     "name": "stdout",
     "output_type": "stream",
     "text": [
      "[[ 48   0   0   0   0   0]\n",
      " [  0  29   0   0   0   4]\n",
      " [  0   0   9   0   0   0]\n",
      " [  5   3   0 117   0   0]\n",
      " [  0   0   4   0  11   0]\n",
      " [  0   0   0   0   0  10]]\n"
     ]
    }
   ],
   "source": [
    "print(confusion_matrix(y_test,y_predict_labels))"
   ]
  },
  {
   "cell_type": "code",
   "execution_count": 152,
   "metadata": {},
   "outputs": [
    {
     "name": "stdout",
     "output_type": "stream",
     "text": [
      "93.33333333333333\n"
     ]
    }
   ],
   "source": [
    "print(accuracy_score(y_test,y_predict_labels)*100)"
   ]
  },
  {
   "cell_type": "code",
   "execution_count": 153,
   "metadata": {},
   "outputs": [],
   "source": [
    "cm = tf.math.confusion_matrix(labels=y_test,predictions=y_predict_labels)"
   ]
  },
  {
   "cell_type": "code",
   "execution_count": 154,
   "metadata": {},
   "outputs": [
    {
     "data": {
      "text/plain": [
       "<tf.Tensor: shape=(6, 6), dtype=int32, numpy=\n",
       "array([[ 48,   0,   0,   0,   0,   0],\n",
       "       [  0,  29,   0,   0,   0,   4],\n",
       "       [  0,   0,   9,   0,   0,   0],\n",
       "       [  5,   3,   0, 117,   0,   0],\n",
       "       [  0,   0,   4,   0,  11,   0],\n",
       "       [  0,   0,   0,   0,   0,  10]])>"
      ]
     },
     "execution_count": 154,
     "metadata": {},
     "output_type": "execute_result"
    }
   ],
   "source": [
    "cm"
   ]
  },
  {
   "cell_type": "code",
   "execution_count": 155,
   "metadata": {},
   "outputs": [],
   "source": [
    "import seaborn as sns\n",
    "import matplotlib.pyplot as plt\n"
   ]
  },
  {
   "cell_type": "code",
   "execution_count": 156,
   "metadata": {},
   "outputs": [
    {
     "data": {
      "text/plain": [
       "[]"
      ]
     },
     "execution_count": 156,
     "metadata": {},
     "output_type": "execute_result"
    },
    {
     "data": {
      "image/png": "[encoded data removed]",
      "text/plain": [
       "<Figure size 640x480 with 1 Axes>"
      ]
     },
     "metadata": {},
     "output_type": "display_data"
    }
   ],
   "source": [
    "sns.heatmap(cm,annot=True,fmt='d',xticklabels=target,yticklabels=target,cbar=False,cmap=\"BuGn\")\n",
    "plt.xlabel(\"Predicted\")\n",
    "plt.ylabel(\"Actual\")\n",
    "plt.plot()"
   ]
  },
  {
   "cell_type": "code",
   "execution_count": 157,
   "metadata": {},
   "outputs": [
    {
     "name": "stdout",
     "output_type": "stream",
     "text": [
      "0.9333333333333333\n"
     ]
    }
   ],
   "source": [
    "print(recall_score(y_test,y_predict_labels,average=\"weighted\"))"
   ]
  },
  {
   "cell_type": "code",
   "execution_count": 158,
   "metadata": {},
   "outputs": [
    {
     "name": "stdout",
     "output_type": "stream",
     "text": [
      "0.9447982270284746\n"
     ]
    }
   ],
   "source": [
    "print(precision_score(y_test,y_predict_labels,average=\"weighted\"))"
   ]
  },
  {
   "cell_type": "code",
   "execution_count": 159,
   "metadata": {},
   "outputs": [
    {
     "name": "stdout",
     "output_type": "stream",
     "text": [
      "0.9346956758612924\n"
     ]
    }
   ],
   "source": [
    "from sklearn.metrics import f1_score\n",
    "\n",
    "\n",
    "print(f1_score(y_test,y_predict_labels,average=\"weighted\"))"
   ]
  },
  {
   "cell_type": "code",
   "execution_count": 160,
   "metadata": {},
   "outputs": [
    {
     "data": {
      "text/plain": [
       "['Vata', 'Pitta', 'Kapha', 'vata+pitta', 'vata+kapha', 'pitta+kapha']"
      ]
     },
     "execution_count": 160,
     "metadata": {},
     "output_type": "execute_result"
    }
   ],
   "source": [
    "target"
   ]
  },
  {
   "cell_type": "code",
   "execution_count": 161,
   "metadata": {},
   "outputs": [
    {
     "data": {
      "text/plain": [
       "array([1, 1, 1, 1, 2, 2, 1, 0, 1, 0, 0, 1, 1, 1, 1, 1, 1, 1, 0, 0],\n",
       "      dtype=int64)"
      ]
     },
     "execution_count": 161,
     "metadata": {},
     "output_type": "execute_result"
    }
   ],
   "source": [
    "X_test[0]"
   ]
  },
  {
   "cell_type": "code",
   "execution_count": 162,
   "metadata": {},
   "outputs": [
    {
     "name": "stdout",
     "output_type": "stream",
     "text": [
      "[[1 1 1 1 0 1 0 0 1 2 1 0 1 1 0 0 1 1 0 0]]\n"
     ]
    }
   ],
   "source": [
    "checking_values=np.array(X_test[1],ndmin=2)\n",
    "print(checking_values)"
   ]
  },
  {
   "cell_type": "code",
   "execution_count": 163,
   "metadata": {},
   "outputs": [
    {
     "name": "stdout",
     "output_type": "stream",
     "text": [
      "1/1 [==============================] - 0s 32ms/step\n"
     ]
    },
    {
     "data": {
      "text/plain": [
       "3"
      ]
     },
     "execution_count": 163,
     "metadata": {},
     "output_type": "execute_result"
    }
   ],
   "source": [
    "np.argmax(model.predict(checking_values))"
   ]
  },
  {
   "cell_type": "code",
   "execution_count": 164,
   "metadata": {},
   "outputs": [
    {
     "name": "stdout",
     "output_type": "stream",
     "text": [
      "1/1 [==============================] - 0s 36ms/step\n",
      "[[0.9998096  0.9992328  0.02662771 1.         0.40437305 0.08367719]]\n"
     ]
    }
   ],
   "source": [
    "Predicted_data=model.predict(checking_values)\n",
    "print(Predicted_data)"
   ]
  },
  {
   "cell_type": "code",
   "execution_count": 165,
   "metadata": {},
   "outputs": [
    {
     "name": "stdout",
     "output_type": "stream",
     "text": [
      "1/1 [==============================] - 0s 24ms/step\n",
      "3\n"
     ]
    }
   ],
   "source": [
    "Actual_class=np.argmax(model.predict(checking_values))\n",
    "print(Actual_class)"
   ]
  },
  {
   "cell_type": "code",
   "execution_count": 166,
   "metadata": {},
   "outputs": [
    {
     "name": "stdout",
     "output_type": "stream",
     "text": [
      "[[99.98096227645874, 99.9232828617096, 2.6627708226442337, 100.0, 40.437304973602295, 8.367718756198883]]\n"
     ]
    }
   ],
   "source": [
    "prakruti_percentages = []\n",
    "for probs in Predicted_data:\n",
    "    percentages = [prob * 100 for prob in probs]\n",
    "    prakruti_percentages.append(percentages)\n",
    "print(prakruti_percentages)"
   ]
  },
  {
   "cell_type": "code",
   "execution_count": 167,
   "metadata": {},
   "outputs": [
    {
     "name": "stdout",
     "output_type": "stream",
     "text": [
      "Sample 1 Prakruti Percentages:\n",
      "Vata: 99.98%\n",
      "Pitta: 99.92%\n",
      "Kapha: 2.66%\n",
      "vata+pitta: 100.00%\n",
      "vata+kapha: 40.44%\n",
      "pitta+kapha: 8.37%\n"
     ]
    }
   ],
   "source": [
    "# Print the results\n",
    "for i, percentages in enumerate(prakruti_percentages):\n",
    "    print(\"Sample\", i+1, \"Prakruti Percentages:\")\n",
    "    for j, prakruti_type in enumerate(target):\n",
    "        print(prakruti_type + \":\", \"{:.2f}%\".format(percentages[j]))"
   ]
  },
  {
   "cell_type": "code",
   "execution_count": 168,
   "metadata": {},
   "outputs": [
    {
     "data": {
      "text/plain": [
       "[[99.98096227645874,\n",
       "  99.9232828617096,\n",
       "  2.6627708226442337,\n",
       "  100.0,\n",
       "  40.437304973602295,\n",
       "  8.367718756198883]]"
      ]
     },
     "execution_count": 168,
     "metadata": {},
     "output_type": "execute_result"
    }
   ],
   "source": [
    "prakruti_percentages"
   ]
  },
  {
   "cell_type": "code",
   "execution_count": 169,
   "metadata": {},
   "outputs": [],
   "source": [
    "probs=prakruti_percentages\n",
    "    "
   ]
  },
  {
   "cell_type": "code",
   "execution_count": 170,
   "metadata": {},
   "outputs": [
    {
     "data": {
      "text/plain": [
       "array([[ 99.98096228,  99.92328286,   2.66277082, 100.        ,\n",
       "         40.43730497,   8.36771876]])"
      ]
     },
     "execution_count": 170,
     "metadata": {},
     "output_type": "execute_result"
    }
   ],
   "source": [
    "prakruti_percentages=np.array(prakruti_percentages)\n",
    "prakruti_percentages\n",
    "    "
   ]
  },
  {
   "cell_type": "code",
   "execution_count": 171,
   "metadata": {},
   "outputs": [
    {
     "name": "stdout",
     "output_type": "stream",
     "text": [
      "vata+pitta => 100.0\n",
      "Vata => 99.9232828617096\n"
     ]
    }
   ],
   "source": [
    "for i in range(2):\n",
    "    index = np.argmax(prakruti_percentages[0])\n",
    "    maximum = np.max(prakruti_percentages[0])\n",
    "    print(target[index], \"=>\", maximum)\n",
    "    prakruti_percentages = np.delete(prakruti_percentages, (0, index))"
   ]
  },
  {
   "cell_type": "code",
   "execution_count": null,
   "metadata": {},
   "outputs": [],
   "source": []
  }
 ],
 "metadata": {
  "kernelspec": {
   "display_name": "Python 3 (ipykernel)",
   "language": "python",
   "name": "python3"
  },
  "language_info": {
   "codemirror_mode": {
    "name": "ipython",
    "version": 3
   },
   "file_extension": ".py",
   "mimetype": "text/x-python",
   "name": "python",
   "nbconvert_exporter": "python",
   "pygments_lexer": "ipython3",
   "version": "3.10.9"
  }
 },
 "nbformat": 4,
 "nbformat_minor": 4
}
