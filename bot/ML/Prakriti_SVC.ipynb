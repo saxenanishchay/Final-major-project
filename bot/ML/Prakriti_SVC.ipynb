{
 "cells": [
  {
   "cell_type": "code",
   "execution_count": 1,
   "metadata": {},
   "outputs": [],
   "source": [
    "import pandas as pd\n",
    "import numpy as np\n",
    "from sklearn.model_selection import train_test_split,KFold,validation_curve,cross_val_score\n",
    "from sklearn.metrics import accuracy_score,f1_score,precision_score,recall_score,confusion_matrix\n",
    "import matplotlib.pyplot as plt\n",
    "from sklearn.svm import LinearSVC\n",
    "import seaborn as sns"
   ]
  },
  {
   "cell_type": "code",
   "execution_count": 2,
   "metadata": {},
   "outputs": [
    {
     "data": {
      "text/html": [
       "<div>\n",
       "<style scoped>\n",
       "    .dataframe tbody tr th:only-of-type {\n",
       "        vertical-align: middle;\n",
       "    }\n",
       "\n",
       "    .dataframe tbody tr th {\n",
       "        vertical-align: top;\n",
       "    }\n",
       "\n",
       "    .dataframe thead th {\n",
       "        text-align: right;\n",
       "    }\n",
       "</style>\n",
       "<table border=\"1\" class=\"dataframe\">\n",
       "  <thead>\n",
       "    <tr style=\"text-align: right;\">\n",
       "      <th></th>\n",
       "      <th>Body Size</th>\n",
       "      <th>Body Weight</th>\n",
       "      <th>Height</th>\n",
       "      <th>Bone Structure</th>\n",
       "      <th>Com1lexion</th>\n",
       "      <th>General feel of skin</th>\n",
       "      <th>Texture of Skin</th>\n",
       "      <th>Hair Color</th>\n",
       "      <th>A11earance of Hair</th>\n",
       "      <th>Sha1e of face</th>\n",
       "      <th>...</th>\n",
       "      <th>Eyelashes</th>\n",
       "      <th>Blinking of Eyes</th>\n",
       "      <th>Cheeks</th>\n",
       "      <th>Nose</th>\n",
       "      <th>Teeth and gums</th>\n",
       "      <th>Li1s</th>\n",
       "      <th>Nails</th>\n",
       "      <th>A11etite</th>\n",
       "      <th>Liking tastes</th>\n",
       "      <th>Dosha</th>\n",
       "    </tr>\n",
       "  </thead>\n",
       "  <tbody>\n",
       "    <tr>\n",
       "      <th>0</th>\n",
       "      <td>1</td>\n",
       "      <td>1</td>\n",
       "      <td>1</td>\n",
       "      <td>2</td>\n",
       "      <td>2</td>\n",
       "      <td>0</td>\n",
       "      <td>0</td>\n",
       "      <td>0</td>\n",
       "      <td>1</td>\n",
       "      <td>0</td>\n",
       "      <td>...</td>\n",
       "      <td>1</td>\n",
       "      <td>1</td>\n",
       "      <td>0</td>\n",
       "      <td>2</td>\n",
       "      <td>2</td>\n",
       "      <td>0</td>\n",
       "      <td>2</td>\n",
       "      <td>2</td>\n",
       "      <td>0</td>\n",
       "      <td>3</td>\n",
       "    </tr>\n",
       "    <tr>\n",
       "      <th>1</th>\n",
       "      <td>1</td>\n",
       "      <td>1</td>\n",
       "      <td>0</td>\n",
       "      <td>1</td>\n",
       "      <td>1</td>\n",
       "      <td>0</td>\n",
       "      <td>2</td>\n",
       "      <td>1</td>\n",
       "      <td>0</td>\n",
       "      <td>0</td>\n",
       "      <td>...</td>\n",
       "      <td>1</td>\n",
       "      <td>1</td>\n",
       "      <td>1</td>\n",
       "      <td>2</td>\n",
       "      <td>1</td>\n",
       "      <td>0</td>\n",
       "      <td>0</td>\n",
       "      <td>2</td>\n",
       "      <td>0</td>\n",
       "      <td>3</td>\n",
       "    </tr>\n",
       "    <tr>\n",
       "      <th>2</th>\n",
       "      <td>0</td>\n",
       "      <td>1</td>\n",
       "      <td>1</td>\n",
       "      <td>1</td>\n",
       "      <td>1</td>\n",
       "      <td>1</td>\n",
       "      <td>2</td>\n",
       "      <td>0</td>\n",
       "      <td>0</td>\n",
       "      <td>0</td>\n",
       "      <td>...</td>\n",
       "      <td>1</td>\n",
       "      <td>1</td>\n",
       "      <td>1</td>\n",
       "      <td>2</td>\n",
       "      <td>1</td>\n",
       "      <td>1</td>\n",
       "      <td>1</td>\n",
       "      <td>2</td>\n",
       "      <td>0</td>\n",
       "      <td>1</td>\n",
       "    </tr>\n",
       "    <tr>\n",
       "      <th>3</th>\n",
       "      <td>0</td>\n",
       "      <td>1</td>\n",
       "      <td>0</td>\n",
       "      <td>0</td>\n",
       "      <td>1</td>\n",
       "      <td>0</td>\n",
       "      <td>2</td>\n",
       "      <td>0</td>\n",
       "      <td>1</td>\n",
       "      <td>2</td>\n",
       "      <td>...</td>\n",
       "      <td>0</td>\n",
       "      <td>1</td>\n",
       "      <td>1</td>\n",
       "      <td>0</td>\n",
       "      <td>1</td>\n",
       "      <td>1</td>\n",
       "      <td>0</td>\n",
       "      <td>2</td>\n",
       "      <td>0</td>\n",
       "      <td>3</td>\n",
       "    </tr>\n",
       "    <tr>\n",
       "      <th>4</th>\n",
       "      <td>2</td>\n",
       "      <td>1</td>\n",
       "      <td>0</td>\n",
       "      <td>1</td>\n",
       "      <td>0</td>\n",
       "      <td>1</td>\n",
       "      <td>2</td>\n",
       "      <td>0</td>\n",
       "      <td>0</td>\n",
       "      <td>0</td>\n",
       "      <td>...</td>\n",
       "      <td>0</td>\n",
       "      <td>1</td>\n",
       "      <td>0</td>\n",
       "      <td>1</td>\n",
       "      <td>1</td>\n",
       "      <td>1</td>\n",
       "      <td>1</td>\n",
       "      <td>1</td>\n",
       "      <td>1</td>\n",
       "      <td>3</td>\n",
       "    </tr>\n",
       "    <tr>\n",
       "      <th>...</th>\n",
       "      <td>...</td>\n",
       "      <td>...</td>\n",
       "      <td>...</td>\n",
       "      <td>...</td>\n",
       "      <td>...</td>\n",
       "      <td>...</td>\n",
       "      <td>...</td>\n",
       "      <td>...</td>\n",
       "      <td>...</td>\n",
       "      <td>...</td>\n",
       "      <td>...</td>\n",
       "      <td>...</td>\n",
       "      <td>...</td>\n",
       "      <td>...</td>\n",
       "      <td>...</td>\n",
       "      <td>...</td>\n",
       "      <td>...</td>\n",
       "      <td>...</td>\n",
       "      <td>...</td>\n",
       "      <td>...</td>\n",
       "      <td>...</td>\n",
       "    </tr>\n",
       "    <tr>\n",
       "      <th>1195</th>\n",
       "      <td>1</td>\n",
       "      <td>1</td>\n",
       "      <td>0</td>\n",
       "      <td>1</td>\n",
       "      <td>1</td>\n",
       "      <td>1</td>\n",
       "      <td>2</td>\n",
       "      <td>0</td>\n",
       "      <td>0</td>\n",
       "      <td>0</td>\n",
       "      <td>...</td>\n",
       "      <td>1</td>\n",
       "      <td>1</td>\n",
       "      <td>0</td>\n",
       "      <td>2</td>\n",
       "      <td>1</td>\n",
       "      <td>1</td>\n",
       "      <td>0</td>\n",
       "      <td>2</td>\n",
       "      <td>0</td>\n",
       "      <td>3</td>\n",
       "    </tr>\n",
       "    <tr>\n",
       "      <th>1196</th>\n",
       "      <td>1</td>\n",
       "      <td>1</td>\n",
       "      <td>2</td>\n",
       "      <td>1</td>\n",
       "      <td>1</td>\n",
       "      <td>1</td>\n",
       "      <td>2</td>\n",
       "      <td>0</td>\n",
       "      <td>0</td>\n",
       "      <td>0</td>\n",
       "      <td>...</td>\n",
       "      <td>1</td>\n",
       "      <td>1</td>\n",
       "      <td>1</td>\n",
       "      <td>0</td>\n",
       "      <td>1</td>\n",
       "      <td>1</td>\n",
       "      <td>0</td>\n",
       "      <td>1</td>\n",
       "      <td>0</td>\n",
       "      <td>3</td>\n",
       "    </tr>\n",
       "    <tr>\n",
       "      <th>1197</th>\n",
       "      <td>0</td>\n",
       "      <td>0</td>\n",
       "      <td>1</td>\n",
       "      <td>0</td>\n",
       "      <td>1</td>\n",
       "      <td>1</td>\n",
       "      <td>2</td>\n",
       "      <td>0</td>\n",
       "      <td>2</td>\n",
       "      <td>1</td>\n",
       "      <td>...</td>\n",
       "      <td>1</td>\n",
       "      <td>0</td>\n",
       "      <td>0</td>\n",
       "      <td>0</td>\n",
       "      <td>0</td>\n",
       "      <td>1</td>\n",
       "      <td>1</td>\n",
       "      <td>0</td>\n",
       "      <td>0</td>\n",
       "      <td>3</td>\n",
       "    </tr>\n",
       "    <tr>\n",
       "      <th>1198</th>\n",
       "      <td>2</td>\n",
       "      <td>2</td>\n",
       "      <td>1</td>\n",
       "      <td>2</td>\n",
       "      <td>1</td>\n",
       "      <td>1</td>\n",
       "      <td>2</td>\n",
       "      <td>0</td>\n",
       "      <td>1</td>\n",
       "      <td>2</td>\n",
       "      <td>...</td>\n",
       "      <td>1</td>\n",
       "      <td>1</td>\n",
       "      <td>2</td>\n",
       "      <td>2</td>\n",
       "      <td>1</td>\n",
       "      <td>1</td>\n",
       "      <td>0</td>\n",
       "      <td>2</td>\n",
       "      <td>0</td>\n",
       "      <td>4</td>\n",
       "    </tr>\n",
       "    <tr>\n",
       "      <th>1199</th>\n",
       "      <td>2</td>\n",
       "      <td>1</td>\n",
       "      <td>2</td>\n",
       "      <td>2</td>\n",
       "      <td>1</td>\n",
       "      <td>0</td>\n",
       "      <td>2</td>\n",
       "      <td>0</td>\n",
       "      <td>1</td>\n",
       "      <td>0</td>\n",
       "      <td>...</td>\n",
       "      <td>1</td>\n",
       "      <td>1</td>\n",
       "      <td>1</td>\n",
       "      <td>2</td>\n",
       "      <td>1</td>\n",
       "      <td>1</td>\n",
       "      <td>0</td>\n",
       "      <td>0</td>\n",
       "      <td>0</td>\n",
       "      <td>3</td>\n",
       "    </tr>\n",
       "  </tbody>\n",
       "</table>\n",
       "<p>1200 rows × 21 columns</p>\n",
       "</div>"
      ],
      "text/plain": [
       "      Body Size  Body Weight  Height  Bone Structure  Com1lexion  \\\n",
       "0             1            1       1               2           2   \n",
       "1             1            1       0               1           1   \n",
       "2             0            1       1               1           1   \n",
       "3             0            1       0               0           1   \n",
       "4             2            1       0               1           0   \n",
       "...         ...          ...     ...             ...         ...   \n",
       "1195          1            1       0               1           1   \n",
       "1196          1            1       2               1           1   \n",
       "1197          0            0       1               0           1   \n",
       "1198          2            2       1               2           1   \n",
       "1199          2            1       2               2           1   \n",
       "\n",
       "      General feel of skin  Texture of Skin  Hair Color  A11earance of Hair  \\\n",
       "0                        0                0           0                   1   \n",
       "1                        0                2           1                   0   \n",
       "2                        1                2           0                   0   \n",
       "3                        0                2           0                   1   \n",
       "4                        1                2           0                   0   \n",
       "...                    ...              ...         ...                 ...   \n",
       "1195                     1                2           0                   0   \n",
       "1196                     1                2           0                   0   \n",
       "1197                     1                2           0                   2   \n",
       "1198                     1                2           0                   1   \n",
       "1199                     0                2           0                   1   \n",
       "\n",
       "      Sha1e of face  ...  Eyelashes  Blinking of Eyes  Cheeks  Nose  \\\n",
       "0                 0  ...          1                 1       0     2   \n",
       "1                 0  ...          1                 1       1     2   \n",
       "2                 0  ...          1                 1       1     2   \n",
       "3                 2  ...          0                 1       1     0   \n",
       "4                 0  ...          0                 1       0     1   \n",
       "...             ...  ...        ...               ...     ...   ...   \n",
       "1195              0  ...          1                 1       0     2   \n",
       "1196              0  ...          1                 1       1     0   \n",
       "1197              1  ...          1                 0       0     0   \n",
       "1198              2  ...          1                 1       2     2   \n",
       "1199              0  ...          1                 1       1     2   \n",
       "\n",
       "      Teeth and gums  Li1s  Nails  A11etite  Liking tastes  Dosha  \n",
       "0                  2     0      2         2              0      3  \n",
       "1                  1     0      0         2              0      3  \n",
       "2                  1     1      1         2              0      1  \n",
       "3                  1     1      0         2              0      3  \n",
       "4                  1     1      1         1              1      3  \n",
       "...              ...   ...    ...       ...            ...    ...  \n",
       "1195               1     1      0         2              0      3  \n",
       "1196               1     1      0         1              0      3  \n",
       "1197               0     1      1         0              0      3  \n",
       "1198               1     1      0         2              0      4  \n",
       "1199               1     1      0         0              0      3  \n",
       "\n",
       "[1200 rows x 21 columns]"
      ]
     },
     "execution_count": 2,
     "metadata": {},
     "output_type": "execute_result"
    }
   ],
   "source": [
    "dataset = pd.read_csv(\"../dataset/data.csv\")\n",
    "dataset"
   ]
  },
  {
   "cell_type": "code",
   "execution_count": 3,
   "metadata": {},
   "outputs": [
    {
     "data": {
      "text/plain": [
       "array([[1, 1, 1, ..., 2, 2, 0],\n",
       "       [1, 1, 0, ..., 0, 2, 0],\n",
       "       [0, 1, 1, ..., 1, 2, 0],\n",
       "       ...,\n",
       "       [0, 0, 1, ..., 1, 0, 0],\n",
       "       [2, 2, 1, ..., 0, 2, 0],\n",
       "       [2, 1, 2, ..., 0, 0, 0]], dtype=int64)"
      ]
     },
     "execution_count": 3,
     "metadata": {},
     "output_type": "execute_result"
    }
   ],
   "source": [
    "X=dataset.iloc[:,:-1].values\n",
    "X"
   ]
  },
  {
   "cell_type": "code",
   "execution_count": 4,
   "metadata": {},
   "outputs": [
    {
     "data": {
      "text/plain": [
       "array([3, 3, 1, ..., 3, 4, 3], dtype=int64)"
      ]
     },
     "execution_count": 4,
     "metadata": {},
     "output_type": "execute_result"
    }
   ],
   "source": [
    "Y=dataset.iloc[:,20].values\n",
    "Y"
   ]
  },
  {
   "cell_type": "code",
   "execution_count": 5,
   "metadata": {},
   "outputs": [],
   "source": [
    "X_train, X_test, y_train, y_test = train_test_split(X, Y, test_size = 0.3, random_state = 42)"
   ]
  },
  {
   "cell_type": "code",
   "execution_count": 6,
   "metadata": {},
   "outputs": [
    {
     "data": {
      "text/plain": [
       "array([[1, 1, 1, ..., 0, 0, 1],\n",
       "       [1, 0, 1, ..., 2, 0, 0],\n",
       "       [2, 1, 2, ..., 1, 1, 1],\n",
       "       ...,\n",
       "       [1, 0, 1, ..., 1, 0, 1],\n",
       "       [0, 1, 0, ..., 1, 2, 0],\n",
       "       [0, 0, 1, ..., 1, 2, 2]], dtype=int64)"
      ]
     },
     "execution_count": 6,
     "metadata": {},
     "output_type": "execute_result"
    }
   ],
   "source": [
    "X_train"
   ]
  },
  {
   "cell_type": "code",
   "execution_count": 7,
   "metadata": {},
   "outputs": [
    {
     "data": {
      "text/plain": [
       "array([3, 3, 1, 2, 3, 2, 0, 0, 0, 0, 0, 3, 3, 0, 0, 5, 3, 4, 3, 1, 3, 3,\n",
       "       3, 0, 2, 3, 0, 3, 1, 0, 3, 3, 5, 3, 1, 2, 1, 3, 1, 3, 3, 1, 0, 0,\n",
       "       5, 3, 3, 3, 1, 0, 1, 3, 3, 0, 3, 1, 3, 3, 3, 5, 3, 3, 0, 1, 3, 3,\n",
       "       3, 3, 0, 0, 2, 3, 1, 3, 0, 0, 3, 3, 1, 3, 3, 0, 3, 3, 4, 3, 3, 0,\n",
       "       3, 3, 1, 3, 3, 3, 4, 1, 3, 5, 3, 3, 0, 3, 3, 0, 3, 0, 3, 3, 3, 3,\n",
       "       3, 1, 3, 1, 1, 1, 3, 1, 3, 3, 0, 1, 1, 3, 1, 3, 0, 3, 3, 3, 2, 3,\n",
       "       2, 3, 0, 0, 3, 2, 3, 0, 0, 0, 3, 3, 0, 2, 3, 3, 3, 3, 3, 0, 3, 3,\n",
       "       3, 0, 3, 0, 3, 3, 3, 3, 3, 3, 3, 3, 0, 3, 1, 2, 0, 3, 1, 0, 3, 3,\n",
       "       0, 0, 4, 3, 3, 3, 3, 5, 2, 3, 1, 3, 0, 0, 0, 0, 3, 0, 5, 3, 3, 3,\n",
       "       3, 4, 3, 0, 0, 0, 0, 0, 1, 3, 0, 3, 3, 1, 0, 3, 3, 3, 3, 1, 3, 3,\n",
       "       0, 3, 3, 0, 3, 3, 0, 3, 0, 3, 3, 0, 2, 4, 3, 3, 3, 0, 3, 3, 3, 3,\n",
       "       3, 0, 3, 5, 3, 0, 3, 3, 3, 3, 3, 5, 3, 3, 1, 1, 3, 3, 5, 0, 3, 3,\n",
       "       3, 0, 0, 3, 3, 3, 2, 0, 5, 3, 5, 0, 3, 2, 1, 1, 3, 2, 3, 3, 3, 3,\n",
       "       5, 0, 3, 0, 1, 3, 3, 0, 3, 3, 3, 0, 3, 4, 3, 2, 0, 3, 1, 2, 3, 0,\n",
       "       0, 4, 1, 2, 3, 3, 2, 1, 1, 4, 0, 3, 3, 0, 1, 0, 2, 3, 0, 3, 0, 3,\n",
       "       3, 3, 2, 1, 2, 2, 3, 3, 3, 1, 4, 0, 3, 4, 2, 3, 3, 3, 0, 3, 1, 0,\n",
       "       3, 3, 3, 3, 4, 3, 0, 3, 3, 0, 5, 3, 0, 0, 0, 3, 5, 3, 3, 3, 3, 3,\n",
       "       3, 3, 3, 0, 3, 1, 2, 2, 3, 0, 0, 0, 2, 3, 3, 3, 1, 3, 3, 1, 2, 3,\n",
       "       3, 3, 3, 3, 0, 0, 3, 0, 3, 3, 3, 0, 3, 1, 1, 2, 3, 4, 2, 3, 3, 3,\n",
       "       1, 0, 3, 1, 0, 0, 1, 0, 3, 3, 3, 0, 1, 3, 3, 0, 3, 3, 3, 0, 1, 0,\n",
       "       3, 1, 3, 0, 3, 0, 5, 1, 3, 3, 0, 0, 0, 3, 2, 3, 3, 1, 5, 3, 0, 3,\n",
       "       3, 2, 3, 3, 3, 0, 0, 3, 3, 3, 3, 3, 1, 0, 2, 0, 5, 3, 4, 3, 3, 2,\n",
       "       3, 5, 3, 1, 3, 0, 3, 3, 2, 3, 2, 2, 3, 3, 3, 3, 3, 3, 4, 3, 3, 0,\n",
       "       3, 3, 3, 1, 2, 4, 3, 3, 3, 3, 3, 0, 0, 3, 1, 3, 3, 3, 1, 0, 0, 4,\n",
       "       3, 2, 0, 3, 0, 0, 0, 3, 1, 2, 1, 0, 0, 0, 3, 3, 3, 3, 3, 3, 3, 0,\n",
       "       3, 3, 4, 3, 0, 1, 3, 3, 3, 0, 3, 3, 1, 3, 0, 3, 0, 3, 3, 5, 3, 0,\n",
       "       1, 3, 3, 5, 3, 0, 0, 0, 3, 3, 3, 0, 3, 3, 3, 3, 3, 1, 3, 3, 3, 4,\n",
       "       0, 1, 1, 3, 2, 3, 3, 3, 3, 3, 0, 5, 3, 0, 0, 0, 0, 3, 3, 3, 3, 3,\n",
       "       3, 5, 3, 5, 1, 1, 0, 0, 3, 3, 3, 3, 1, 3, 3, 3, 4, 3, 3, 3, 3, 3,\n",
       "       3, 2, 2, 3, 0, 0, 3, 1, 0, 3, 0, 2, 3, 0, 3, 3, 0, 3, 3, 0, 0, 0,\n",
       "       3, 3, 1, 0, 3, 5, 1, 5, 3, 1, 3, 3, 3, 3, 3, 3, 1, 3, 3, 3, 1, 0,\n",
       "       0, 3, 2, 3, 0, 2, 3, 3, 4, 3, 1, 2, 5, 3, 2, 1, 3, 0, 4, 5, 3, 1,\n",
       "       3, 3, 3, 0, 3, 3, 5, 1, 0, 1, 3, 2, 3, 1, 5, 0, 5, 0, 3, 1, 1, 1,\n",
       "       3, 3, 3, 3, 3, 0, 3, 0, 4, 3, 4, 3, 1, 1, 3, 0, 0, 3, 3, 3, 3, 0,\n",
       "       2, 3, 1, 3, 3, 0, 1, 3, 0, 1, 3, 2, 3, 1, 3, 3, 5, 1, 0, 0, 1, 3,\n",
       "       0, 3, 1, 3, 0, 3, 3, 3, 0, 0, 3, 1, 0, 3, 3, 4, 3, 3, 3, 0, 1, 3,\n",
       "       0, 3, 3, 0, 2, 3, 0, 3, 3, 3, 0, 1, 0, 3, 0, 3, 3, 3, 0, 3, 0, 3,\n",
       "       3, 0, 0, 0, 0, 0, 3, 1, 0, 3, 3, 3, 3, 3, 3, 3, 3, 3, 3, 3, 3, 4,\n",
       "       3, 3, 0, 3], dtype=int64)"
      ]
     },
     "execution_count": 7,
     "metadata": {},
     "output_type": "execute_result"
    }
   ],
   "source": [
    "y_train"
   ]
  },
  {
   "cell_type": "code",
   "execution_count": 12,
   "metadata": {},
   "outputs": [],
   "source": [
    "svc = LinearSVC(dual=True)"
   ]
  },
  {
   "cell_type": "code",
   "execution_count": 13,
   "metadata": {},
   "outputs": [
    {
     "name": "stderr",
     "output_type": "stream",
     "text": [
      "d:\\Code\\Prakriti\\bot\\project\\lib\\site-packages\\sklearn\\svm\\_base.py:1250: ConvergenceWarning: Liblinear failed to converge, increase the number of iterations.\n",
      "  warnings.warn(\n"
     ]
    },
    {
     "data": {
      "text/html": [
       "<style>#sk-container-id-3 {color: black;}#sk-container-id-3 pre{padding: 0;}#sk-container-id-3 div.sk-toggleable {background-color: white;}#sk-container-id-3 label.sk-toggleable__label {cursor: pointer;display: block;width: 100%;margin-bottom: 0;padding: 0.3em;box-sizing: border-box;text-align: center;}#sk-container-id-3 label.sk-toggleable__label-arrow:before {content: \"▸\";float: left;margin-right: 0.25em;color: #696969;}#sk-container-id-3 label.sk-toggleable__label-arrow:hover:before {color: black;}#sk-container-id-3 div.sk-estimator:hover label.sk-toggleable__label-arrow:before {color: black;}#sk-container-id-3 div.sk-toggleable__content {max-height: 0;max-width: 0;overflow: hidden;text-align: left;background-color: #f0f8ff;}#sk-container-id-3 div.sk-toggleable__content pre {margin: 0.2em;color: black;border-radius: 0.25em;background-color: #f0f8ff;}#sk-container-id-3 input.sk-toggleable__control:checked~div.sk-toggleable__content {max-height: 200px;max-width: 100%;overflow: auto;}#sk-container-id-3 input.sk-toggleable__control:checked~label.sk-toggleable__label-arrow:before {content: \"▾\";}#sk-container-id-3 div.sk-estimator input.sk-toggleable__control:checked~label.sk-toggleable__label {background-color: #d4ebff;}#sk-container-id-3 div.sk-label input.sk-toggleable__control:checked~label.sk-toggleable__label {background-color: #d4ebff;}#sk-container-id-3 input.sk-hidden--visually {border: 0;clip: rect(1px 1px 1px 1px);clip: rect(1px, 1px, 1px, 1px);height: 1px;margin: -1px;overflow: hidden;padding: 0;position: absolute;width: 1px;}#sk-container-id-3 div.sk-estimator {font-family: monospace;background-color: #f0f8ff;border: 1px dotted black;border-radius: 0.25em;box-sizing: border-box;margin-bottom: 0.5em;}#sk-container-id-3 div.sk-estimator:hover {background-color: #d4ebff;}#sk-container-id-3 div.sk-parallel-item::after {content: \"\";width: 100%;border-bottom: 1px solid gray;flex-grow: 1;}#sk-container-id-3 div.sk-label:hover label.sk-toggleable__label {background-color: #d4ebff;}#sk-container-id-3 div.sk-serial::before {content: \"\";position: absolute;border-left: 1px solid gray;box-sizing: border-box;top: 0;bottom: 0;left: 50%;z-index: 0;}#sk-container-id-3 div.sk-serial {display: flex;flex-direction: column;align-items: center;background-color: white;padding-right: 0.2em;padding-left: 0.2em;position: relative;}#sk-container-id-3 div.sk-item {position: relative;z-index: 1;}#sk-container-id-3 div.sk-parallel {display: flex;align-items: stretch;justify-content: center;background-color: white;position: relative;}#sk-container-id-3 div.sk-item::before, #sk-container-id-3 div.sk-parallel-item::before {content: \"\";position: absolute;border-left: 1px solid gray;box-sizing: border-box;top: 0;bottom: 0;left: 50%;z-index: -1;}#sk-container-id-3 div.sk-parallel-item {display: flex;flex-direction: column;z-index: 1;position: relative;background-color: white;}#sk-container-id-3 div.sk-parallel-item:first-child::after {align-self: flex-end;width: 50%;}#sk-container-id-3 div.sk-parallel-item:last-child::after {align-self: flex-start;width: 50%;}#sk-container-id-3 div.sk-parallel-item:only-child::after {width: 0;}#sk-container-id-3 div.sk-dashed-wrapped {border: 1px dashed gray;margin: 0 0.4em 0.5em 0.4em;box-sizing: border-box;padding-bottom: 0.4em;background-color: white;}#sk-container-id-3 div.sk-label label {font-family: monospace;font-weight: bold;display: inline-block;line-height: 1.2em;}#sk-container-id-3 div.sk-label-container {text-align: center;}#sk-container-id-3 div.sk-container {/* jupyter's `normalize.less` sets `[hidden] { display: none; }` but bootstrap.min.css set `[hidden] { display: none !important; }` so we also need the `!important` here to be able to override the default hidden behavior on the sphinx rendered scikit-learn.org. See: https://github.com/scikit-learn/scikit-learn/issues/21755 */display: inline-block !important;position: relative;}#sk-container-id-3 div.sk-text-repr-fallback {display: none;}</style><div id=\"sk-container-id-3\" class=\"sk-top-container\"><div class=\"sk-text-repr-fallback\"><pre>LinearSVC(dual=True)</pre><b>In a Jupyter environment, please rerun this cell to show the HTML representation or trust the notebook. <br />On GitHub, the HTML representation is unable to render, please try loading this page with nbviewer.org.</b></div><div class=\"sk-container\" hidden><div class=\"sk-item\"><div class=\"sk-estimator sk-toggleable\"><input class=\"sk-toggleable__control sk-hidden--visually\" id=\"sk-estimator-id-3\" type=\"checkbox\" checked><label for=\"sk-estimator-id-3\" class=\"sk-toggleable__label sk-toggleable__label-arrow\">LinearSVC</label><div class=\"sk-toggleable__content\"><pre>LinearSVC(dual=True)</pre></div></div></div></div></div>"
      ],
      "text/plain": [
       "LinearSVC(dual=True)"
      ]
     },
     "execution_count": 13,
     "metadata": {},
     "output_type": "execute_result"
    }
   ],
   "source": [
    "svc.fit(X_train,y_train)"
   ]
  },
  {
   "cell_type": "code",
   "execution_count": 15,
   "metadata": {},
   "outputs": [
    {
     "name": "stdout",
     "output_type": "stream",
     "text": [
      "svc train 0.8285714285714286\n",
      "svc test 0.8\n"
     ]
    }
   ],
   "source": [
    "print(\"svc train\",svc.score(X_train,y_train))#training accuracy\n",
    "print(\"svc test\",svc.score(X_test,y_test))"
   ]
  },
  {
   "cell_type": "code",
   "execution_count": 16,
   "metadata": {},
   "outputs": [],
   "source": [
    "y_pred=svc.predict(X_test)"
   ]
  },
  {
   "cell_type": "code",
   "execution_count": 17,
   "metadata": {},
   "outputs": [
    {
     "data": {
      "text/plain": [
       "array([1, 3, 3, 3, 5, 3, 0, 0, 2, 3, 3, 4, 3, 3, 0, 3, 0, 3, 3, 0, 3, 0,\n",
       "       0, 4, 0, 3, 3, 3, 5, 4, 3, 3, 3, 4, 3, 3, 4, 3, 3, 0, 3, 3, 3, 3,\n",
       "       2, 0, 3, 0, 3, 3, 3, 3, 3, 5, 0, 5, 3, 0, 3, 3, 0, 3, 3, 3, 3, 3,\n",
       "       3, 3, 3, 3, 4, 3, 0, 3, 1, 3, 2, 0, 0, 2, 5, 0, 4, 3, 3, 0, 0, 0,\n",
       "       3, 0, 3, 0, 3, 3, 3, 3, 3, 0, 3, 0, 0, 0, 3, 3, 3, 3, 3, 3, 3, 3,\n",
       "       3, 3, 0, 0, 3, 3, 4, 5, 3, 3, 3, 3, 3, 3, 3, 3, 4, 3, 3, 3, 0, 0,\n",
       "       3, 3, 0, 3, 3, 1, 3, 4, 3, 3, 3, 3, 3, 5, 2, 3, 3, 3, 3, 2, 3, 0,\n",
       "       3, 3, 3, 3, 3, 3, 3, 4, 5, 3, 3, 0, 3, 3, 0, 0, 3, 3, 0, 4, 3, 3,\n",
       "       1, 0, 3, 3, 5, 3, 3, 3, 3, 3, 3, 3, 0, 3, 3, 3, 3, 0, 3, 4, 3, 3,\n",
       "       3, 0, 3, 3, 0, 0, 3, 3, 3, 2, 3, 0, 3, 3, 0, 4, 3, 3, 0, 0, 0, 5,\n",
       "       3, 3, 3, 2, 3, 0, 3, 3, 0, 3, 3, 0, 2, 4, 0, 0, 3, 0, 3, 0, 0, 0,\n",
       "       0, 3, 3, 3, 0, 3, 5, 2, 3, 0, 5, 3, 2, 2, 5, 2, 3, 3, 3, 0, 3, 2,\n",
       "       3, 0, 3, 0, 2, 3, 3, 3, 3, 3, 3, 3, 3, 0, 3, 3, 3, 3, 3, 5, 3, 3,\n",
       "       3, 3, 3, 0, 0, 3, 3, 3, 3, 0, 3, 4, 3, 2, 3, 3, 4, 3, 3, 5, 5, 3,\n",
       "       3, 3, 2, 0, 3, 3, 3, 3, 0, 0, 3, 2, 0, 0, 4, 3, 0, 3, 3, 0, 3, 3,\n",
       "       3, 3, 3, 2, 3, 3, 3, 0, 3, 4, 0, 0, 3, 3, 3, 3, 3, 3, 3, 4, 0, 0,\n",
       "       4, 3, 2, 0, 0, 3, 4, 3], dtype=int64)"
      ]
     },
     "execution_count": 17,
     "metadata": {},
     "output_type": "execute_result"
    }
   ],
   "source": [
    "y_pred"
   ]
  },
  {
   "cell_type": "code",
   "execution_count": 18,
   "metadata": {},
   "outputs": [],
   "source": [
    "target=[\"vata\",\"pitta\",\"kapha\",\"vata+pitta\",\"vata+kapha\",\"pitta+kapha\"]"
   ]
  },
  {
   "cell_type": "code",
   "execution_count": 19,
   "metadata": {},
   "outputs": [
    {
     "data": {
      "text/plain": [
       "array([[ 62,   0,   0,  12,   0,   0],\n",
       "       [  0,   4,   0,  41,   0,   0],\n",
       "       [  0,   0,  20,   0,   0,   0],\n",
       "       [ 19,   0,   0, 164,   0,   0],\n",
       "       [  0,   0,   0,   0,  22,   0],\n",
       "       [  0,   0,   0,   0,   0,  16]], dtype=int64)"
      ]
     },
     "execution_count": 19,
     "metadata": {},
     "output_type": "execute_result"
    }
   ],
   "source": [
    "cm=confusion_matrix(y_test,y_pred)\n",
    "cm"
   ]
  },
  {
   "cell_type": "code",
   "execution_count": 22,
   "metadata": {},
   "outputs": [
    {
     "data": {
      "text/plain": [
       "[]"
      ]
     },
     "execution_count": 22,
     "metadata": {},
     "output_type": "execute_result"
    },
    {
     "data": {
      "image/png": "[encoded data removed]",
      "text/plain": [
       "<Figure size 640x480 with 1 Axes>"
      ]
     },
     "metadata": {},
     "output_type": "display_data"
    }
   ],
   "source": [
    "import seaborn as sns\n",
    "sns.heatmap(cm,annot=True,fmt='d',xticklabels=target,yticklabels=target,cbar=False,cmap='OrRd')\n",
    "plt.xlabel(\"Predicted\")\n",
    "plt.ylabel(\"Actual\")\n",
    "plt.plot()"
   ]
  },
  {
   "cell_type": "code",
   "execution_count": 23,
   "metadata": {},
   "outputs": [
    {
     "name": "stdout",
     "output_type": "stream",
     "text": [
      "0.8\n"
     ]
    }
   ],
   "source": [
    "print(recall_score(y_test,y_pred,average=\"weighted\"))"
   ]
  },
  {
   "cell_type": "code",
   "execution_count": 24,
   "metadata": {},
   "outputs": [
    {
     "name": "stdout",
     "output_type": "stream",
     "text": [
      "0.8276281188168882\n"
     ]
    }
   ],
   "source": [
    "print(precision_score(y_test,y_pred,average=\"weighted\"))"
   ]
  },
  {
   "cell_type": "code",
   "execution_count": 25,
   "metadata": {},
   "outputs": [
    {
     "name": "stdout",
     "output_type": "stream",
     "text": [
      "0.7627970521541951\n"
     ]
    }
   ],
   "source": [
    "print(f1_score(y_test,y_pred,average=\"weighted\"))"
   ]
  },
  {
   "cell_type": "code",
   "execution_count": 26,
   "metadata": {},
   "outputs": [
    {
     "name": "stdout",
     "output_type": "stream",
     "text": [
      "              precision    recall  f1-score   support\n",
      "\n",
      "           0       0.77      0.84      0.80        74\n",
      "           1       1.00      0.09      0.16        45\n",
      "           2       1.00      1.00      1.00        20\n",
      "           3       0.76      0.90      0.82       183\n",
      "           4       1.00      1.00      1.00        22\n",
      "           5       1.00      1.00      1.00        16\n",
      "\n",
      "    accuracy                           0.80       360\n",
      "   macro avg       0.92      0.80      0.80       360\n",
      "weighted avg       0.83      0.80      0.76       360\n",
      "\n"
     ]
    }
   ],
   "source": [
    "from sklearn.metrics import classification_report\n",
    "\n",
    "\n",
    "print(classification_report(y_test,y_pred))"
   ]
  },
  {
   "cell_type": "code",
   "execution_count": 27,
   "metadata": {},
   "outputs": [
    {
     "data": {
      "text/plain": [
       "0.8"
      ]
     },
     "execution_count": 27,
     "metadata": {},
     "output_type": "execute_result"
    }
   ],
   "source": [
    "accuracy_score(y_test,y_pred)"
   ]
  },
  {
   "cell_type": "code",
   "execution_count": null,
   "metadata": {},
   "outputs": [],
   "source": []
  }
 ],
 "metadata": {
  "kernelspec": {
   "display_name": "project",
   "language": "python",
   "name": "python3"
  },
  "language_info": {
   "codemirror_mode": {
    "name": "ipython",
    "version": 3
   },
   "file_extension": ".py",
   "mimetype": "text/x-python",
   "name": "python",
   "nbconvert_exporter": "python",
   "pygments_lexer": "ipython3",
   "version": "3.10.9"
  }
 },
 "nbformat": 4,
 "nbformat_minor": 2
}
